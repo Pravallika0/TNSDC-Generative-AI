{
  "cells": [
    {
      "cell_type": "code",
      "execution_count": null,
      "id": "5f5fabd2",
      "metadata": {
        "id": "5f5fabd2"
      },
      "outputs": [],
      "source": [
        "# import the libraries as shown below\n",
        "\n",
        "from tensorflow.keras.layers import Input, Lambda, Dense, Flatten,Conv2D\n",
        "from tensorflow.keras.models import Model\n",
        "from tensorflow.keras.applications.vgg19 import VGG19\n",
        "from tensorflow.keras.applications.resnet50 import preprocess_input\n",
        "from tensorflow.keras.preprocessing import image\n",
        "from tensorflow.keras.preprocessing.image import ImageDataGenerator,load_img\n",
        "from tensorflow.keras.models import Sequential\n",
        "import numpy as np\n",
        "from glob import glob\n",
        "import matplotlib.pyplot as plt"
      ]
    },
    {
      "cell_type": "code",
      "execution_count": null,
      "id": "1ace699c",
      "metadata": {
        "id": "1ace699c"
      },
      "outputs": [],
      "source": [
        "IMAGE_SIZE = [224, 224]\n",
        "\n",
        "train_path = 'C:/Users/pravi/AppData/Local/Temp/6852f2b5-21f2-4161-8051-c69daeabde95_Malaria-Detection-master.zip.e95/Malaria-Detection-master/Dataset.zip/Dataset/Train'\n",
        "valid_path = 'C:/Users/pravi/AppData/Local/Temp/6852f2b5-21f2-4161-8051-c69daeabde95_Malaria-Detection-master.zip.e95/Malaria-Detection-master/Dataset.zip/Dataset/Test'"
      ]
    },
    {
      "cell_type": "code",
      "execution_count": null,
      "id": "6b5f9a73",
      "metadata": {
        "id": "6b5f9a73",
        "outputId": "911530b2-ead9-46b9-cda9-fe0d709f2df8"
      },
      "outputs": [
        {
          "name": "stdout",
          "output_type": "stream",
          "text": [
            "Downloading data from https://storage.googleapis.com/tensorflow/keras-applications/vgg19/vgg19_weights_tf_dim_ordering_tf_kernels_notop.h5\n",
            "80134624/80134624 [==============================] - 6s 0us/step\n"
          ]
        }
      ],
      "source": [
        "# Import the Vgg 16 library as shown below and add preprocessing layer to the front of VGG\n",
        "# Here we will be using imagenet weights\n",
        "\n",
        "mobilnet = VGG19(input_shape=IMAGE_SIZE + [3], weights='imagenet', include_top=False)"
      ]
    },
    {
      "cell_type": "code",
      "execution_count": null,
      "id": "67a78316",
      "metadata": {
        "id": "67a78316"
      },
      "outputs": [],
      "source": [
        "# don't train existing weights\n",
        "for layer in mobilnet.layers:\n",
        "    layer.trainable = False"
      ]
    },
    {
      "cell_type": "code",
      "execution_count": null,
      "id": "d1413c66",
      "metadata": {
        "id": "d1413c66"
      },
      "outputs": [],
      "source": [
        "# useful for getting number of output classes\n",
        "folders = glob('C:/Users/pravi/AppData/Local/Temp/6852f2b5-21f2-4161-8051-c69daeabde95_Malaria-Detection-master.zip.e95/Malaria-Detection-master/Dataset.zip/Dataset/Train/*')"
      ]
    },
    {
      "cell_type": "code",
      "execution_count": null,
      "id": "c932c782",
      "metadata": {
        "id": "c932c782",
        "outputId": "851f593b-ae1c-45f8-a858-3a19f26484eb"
      },
      "outputs": [
        {
          "data": {
            "text/plain": [
              "[]"
            ]
          },
          "execution_count": 10,
          "metadata": {},
          "output_type": "execute_result"
        }
      ],
      "source": [
        "folders"
      ]
    },
    {
      "cell_type": "code",
      "execution_count": null,
      "id": "88bd13b8",
      "metadata": {
        "id": "88bd13b8"
      },
      "outputs": [],
      "source": [
        "# our layers - you can add more if you want\n",
        "x = Flatten()(mobilnet.output)"
      ]
    },
    {
      "cell_type": "code",
      "execution_count": null,
      "id": "9e01a7fd",
      "metadata": {
        "id": "9e01a7fd"
      },
      "outputs": [],
      "source": [
        "prediction = Dense(len(folders), activation='softmax')(x)\n",
        "\n",
        "# create a model object\n",
        "model = Model(inputs=mobilnet.input, outputs=prediction)"
      ]
    },
    {
      "cell_type": "code",
      "execution_count": null,
      "id": "c072bba3",
      "metadata": {
        "id": "c072bba3",
        "outputId": "992ff7c6-8043-4f35-9ee2-48df9e3908d6"
      },
      "outputs": [
        {
          "name": "stdout",
          "output_type": "stream",
          "text": [
            "Model: \"model\"\n",
            "_________________________________________________________________\n",
            " Layer (type)                Output Shape              Param #   \n",
            "=================================================================\n",
            " input_1 (InputLayer)        [(None, 224, 224, 3)]     0         \n",
            "                                                                 \n",
            " block1_conv1 (Conv2D)       (None, 224, 224, 64)      1792      \n",
            "                                                                 \n",
            " block1_conv2 (Conv2D)       (None, 224, 224, 64)      36928     \n",
            "                                                                 \n",
            " block1_pool (MaxPooling2D)  (None, 112, 112, 64)      0         \n",
            "                                                                 \n",
            " block2_conv1 (Conv2D)       (None, 112, 112, 128)     73856     \n",
            "                                                                 \n",
            " block2_conv2 (Conv2D)       (None, 112, 112, 128)     147584    \n",
            "                                                                 \n",
            " block2_pool (MaxPooling2D)  (None, 56, 56, 128)       0         \n",
            "                                                                 \n",
            " block3_conv1 (Conv2D)       (None, 56, 56, 256)       295168    \n",
            "                                                                 \n",
            " block3_conv2 (Conv2D)       (None, 56, 56, 256)       590080    \n",
            "                                                                 \n",
            " block3_conv3 (Conv2D)       (None, 56, 56, 256)       590080    \n",
            "                                                                 \n",
            " block3_conv4 (Conv2D)       (None, 56, 56, 256)       590080    \n",
            "                                                                 \n",
            " block3_pool (MaxPooling2D)  (None, 28, 28, 256)       0         \n",
            "                                                                 \n",
            " block4_conv1 (Conv2D)       (None, 28, 28, 512)       1180160   \n",
            "                                                                 \n",
            " block4_conv2 (Conv2D)       (None, 28, 28, 512)       2359808   \n",
            "                                                                 \n",
            " block4_conv3 (Conv2D)       (None, 28, 28, 512)       2359808   \n",
            "                                                                 \n",
            " block4_conv4 (Conv2D)       (None, 28, 28, 512)       2359808   \n",
            "                                                                 \n",
            " block4_pool (MaxPooling2D)  (None, 14, 14, 512)       0         \n",
            "                                                                 \n",
            " block5_conv1 (Conv2D)       (None, 14, 14, 512)       2359808   \n",
            "                                                                 \n",
            " block5_conv2 (Conv2D)       (None, 14, 14, 512)       2359808   \n",
            "                                                                 \n",
            " block5_conv3 (Conv2D)       (None, 14, 14, 512)       2359808   \n",
            "                                                                 \n",
            " block5_conv4 (Conv2D)       (None, 14, 14, 512)       2359808   \n",
            "                                                                 \n",
            " block5_pool (MaxPooling2D)  (None, 7, 7, 512)         0         \n",
            "                                                                 \n",
            " flatten (Flatten)           (None, 25088)             0         \n",
            "                                                                 \n",
            " dense (Dense)               (None, 0)                 0         \n",
            "                                                                 \n",
            "=================================================================\n",
            "Total params: 20,024,384\n",
            "Trainable params: 0\n",
            "Non-trainable params: 20,024,384\n",
            "_________________________________________________________________\n"
          ]
        }
      ],
      "source": [
        "# view the structure of the model\n",
        "model.summary()"
      ]
    },
    {
      "cell_type": "code",
      "execution_count": null,
      "id": "860c4cc0",
      "metadata": {
        "id": "860c4cc0"
      },
      "outputs": [],
      "source": [
        "from tensorflow.keras.layers import MaxPooling2D"
      ]
    },
    {
      "cell_type": "code",
      "execution_count": null,
      "id": "92c58cab",
      "metadata": {
        "id": "92c58cab",
        "outputId": "be09bf33-8fb7-4383-a8a7-79a9d68cc474"
      },
      "outputs": [
        {
          "name": "stdout",
          "output_type": "stream",
          "text": [
            "Model: \"sequential\"\n",
            "_________________________________________________________________\n",
            " Layer (type)                Output Shape              Param #   \n",
            "=================================================================\n",
            " conv2d (Conv2D)             (None, 224, 224, 16)      208       \n",
            "                                                                 \n",
            " max_pooling2d (MaxPooling2D  (None, 112, 112, 16)     0         \n",
            " )                                                               \n",
            "                                                                 \n",
            " conv2d_1 (Conv2D)           (None, 112, 112, 32)      2080      \n",
            "                                                                 \n",
            " max_pooling2d_1 (MaxPooling  (None, 56, 56, 32)       0         \n",
            " 2D)                                                             \n",
            "                                                                 \n",
            " conv2d_2 (Conv2D)           (None, 56, 56, 64)        8256      \n",
            "                                                                 \n",
            " max_pooling2d_2 (MaxPooling  (None, 28, 28, 64)       0         \n",
            " 2D)                                                             \n",
            "                                                                 \n",
            " flatten_1 (Flatten)         (None, 50176)             0         \n",
            "                                                                 \n",
            " dense_1 (Dense)             (None, 500)               25088500  \n",
            "                                                                 \n",
            " dense_2 (Dense)             (None, 2)                 1002      \n",
            "                                                                 \n",
            "=================================================================\n",
            "Total params: 25,100,046\n",
            "Trainable params: 25,100,046\n",
            "Non-trainable params: 0\n",
            "_________________________________________________________________\n"
          ]
        }
      ],
      "source": [
        "### Create Model from scratch using CNN\n",
        "model=Sequential()\n",
        "model.add(Conv2D(filters=16,kernel_size=2,padding=\"same\",activation=\"relu\",input_shape=(224,224,3)))\n",
        "model.add(MaxPooling2D(pool_size=2))\n",
        "model.add(Conv2D(filters=32,kernel_size=2,padding=\"same\",activation =\"relu\"))\n",
        "model.add(MaxPooling2D(pool_size=2))\n",
        "model.add(Conv2D(filters=64,kernel_size=2,padding=\"same\",activation=\"relu\"))\n",
        "model.add(MaxPooling2D(pool_size=2))\n",
        "model.add(Flatten())\n",
        "model.add(Dense(500,activation=\"relu\"))\n",
        "model.add(Dense(2,activation=\"softmax\"))\n",
        "model.summary()"
      ]
    },
    {
      "cell_type": "code",
      "execution_count": null,
      "id": "a84339fb",
      "metadata": {
        "id": "a84339fb"
      },
      "outputs": [],
      "source": [
        "# tell the model what cost and optimization method to use\n",
        "model.compile(\n",
        "  loss='categorical_crossentropy',\n",
        "  optimizer='adam',\n",
        "  metrics=['accuracy']\n",
        ")"
      ]
    },
    {
      "cell_type": "code",
      "execution_count": null,
      "id": "29c1dffb",
      "metadata": {
        "id": "29c1dffb"
      },
      "outputs": [],
      "source": [
        "# Use the Image Data Generator to import the images from the dataset\n",
        "from tensorflow.keras.preprocessing.image import ImageDataGenerator\n",
        "\n",
        "train_datagen = ImageDataGenerator(rescale = 1./255,\n",
        "                                   shear_range = 0.2,\n",
        "                                   zoom_range = 0.2,\n",
        "                                   horizontal_flip = True)\n",
        "\n",
        "test_datagen = ImageDataGenerator(rescale = 1./255)"
      ]
    },
    {
      "cell_type": "code",
      "execution_count": null,
      "id": "2bb0ebf2",
      "metadata": {
        "id": "2bb0ebf2",
        "outputId": "bd59030b-a6c0-4a65-cb7d-2c4617495375"
      },
      "outputs": [
        {
          "name": "stdout",
          "output_type": "stream",
          "text": [
            "Found 416 images belonging to 2 classes.\n"
          ]
        }
      ],
      "source": [
        "# Make sure you provide the same target size as initialied for the image size\n",
        "training_set = train_datagen.flow_from_directory('C:/Users/pravi/OneDrive/Documents/Malaria_detection/Dataset/Train',\n",
        "                                                 target_size = (224, 224),\n",
        "                                                 batch_size = 32,\n",
        "                                                 class_mode = 'categorical')"
      ]
    },
    {
      "cell_type": "code",
      "execution_count": null,
      "id": "660f7a76",
      "metadata": {
        "id": "660f7a76",
        "outputId": "1129328e-e546-4d51-9bdf-e855688ab6ad"
      },
      "outputs": [
        {
          "data": {
            "text/plain": [
              "<keras.preprocessing.image.DirectoryIterator at 0x1fd97510ed0>"
            ]
          },
          "execution_count": 25,
          "metadata": {},
          "output_type": "execute_result"
        }
      ],
      "source": [
        "training_set"
      ]
    },
    {
      "cell_type": "code",
      "execution_count": null,
      "id": "ac4af955",
      "metadata": {
        "id": "ac4af955",
        "outputId": "a1ddd847-fb3b-4885-9c33-2b2e1e003b76"
      },
      "outputs": [
        {
          "name": "stdout",
          "output_type": "stream",
          "text": [
            "Found 134 images belonging to 2 classes.\n"
          ]
        }
      ],
      "source": [
        "test_set = test_datagen.flow_from_directory('C:/Users/pravi/OneDrive/Documents/Malaria_detection/Dataset/Test',\n",
        "                                            target_size = (224, 224),\n",
        "                                            batch_size = 32,\n",
        "                                            class_mode = 'categorical')"
      ]
    },
    {
      "cell_type": "code",
      "execution_count": null,
      "id": "6558e147",
      "metadata": {
        "id": "6558e147",
        "outputId": "3817cd5a-e46a-4952-fe63-e0f7816abfef"
      },
      "outputs": [
        {
          "name": "stderr",
          "output_type": "stream",
          "text": [
            "C:\\Users\\pravi\\AppData\\Local\\Temp\\ipykernel_18116\\4102162479.py:3: UserWarning: `Model.fit_generator` is deprecated and will be removed in a future version. Please use `Model.fit`, which supports generators.\n",
            "  r = model.fit_generator(\n"
          ]
        },
        {
          "name": "stdout",
          "output_type": "stream",
          "text": [
            "Epoch 1/50\n",
            "13/13 [==============================] - 9s 612ms/step - loss: 2.2537 - accuracy: 0.4688 - val_loss: 0.6412 - val_accuracy: 0.6791\n",
            "Epoch 2/50\n",
            "13/13 [==============================] - 8s 599ms/step - loss: 0.7094 - accuracy: 0.4952 - val_loss: 0.7063 - val_accuracy: 0.3284\n",
            "Epoch 3/50\n",
            "13/13 [==============================] - 8s 587ms/step - loss: 0.6924 - accuracy: 0.4856 - val_loss: 0.6937 - val_accuracy: 0.4925\n",
            "Epoch 4/50\n",
            "13/13 [==============================] - 8s 610ms/step - loss: 0.6898 - accuracy: 0.5673 - val_loss: 0.6803 - val_accuracy: 0.6791\n",
            "Epoch 5/50\n",
            "13/13 [==============================] - 7s 566ms/step - loss: 0.6857 - accuracy: 0.5409 - val_loss: 0.7105 - val_accuracy: 0.4179\n",
            "Epoch 6/50\n",
            "13/13 [==============================] - 7s 554ms/step - loss: 0.6666 - accuracy: 0.5962 - val_loss: 0.6905 - val_accuracy: 0.5000\n",
            "Epoch 7/50\n",
            "13/13 [==============================] - 7s 566ms/step - loss: 0.6256 - accuracy: 0.6298 - val_loss: 0.7569 - val_accuracy: 0.4403\n",
            "Epoch 8/50\n",
            "13/13 [==============================] - 7s 545ms/step - loss: 0.5688 - accuracy: 0.6947 - val_loss: 0.9439 - val_accuracy: 0.3955\n",
            "Epoch 9/50\n",
            "13/13 [==============================] - 8s 571ms/step - loss: 0.5115 - accuracy: 0.7236 - val_loss: 0.8414 - val_accuracy: 0.6642\n",
            "Epoch 10/50\n",
            "13/13 [==============================] - 8s 568ms/step - loss: 0.5221 - accuracy: 0.7188 - val_loss: 0.7875 - val_accuracy: 0.4478\n",
            "Epoch 11/50\n",
            "13/13 [==============================] - 7s 557ms/step - loss: 0.4268 - accuracy: 0.7957 - val_loss: 1.0682 - val_accuracy: 0.4104\n",
            "Epoch 12/50\n",
            "13/13 [==============================] - 8s 613ms/step - loss: 0.4471 - accuracy: 0.7837 - val_loss: 0.7528 - val_accuracy: 0.5448\n",
            "Epoch 13/50\n",
            "13/13 [==============================] - 7s 557ms/step - loss: 0.3479 - accuracy: 0.8365 - val_loss: 1.0606 - val_accuracy: 0.5075\n",
            "Epoch 14/50\n",
            "13/13 [==============================] - 7s 555ms/step - loss: 0.3540 - accuracy: 0.8606 - val_loss: 0.7586 - val_accuracy: 0.5746\n",
            "Epoch 15/50\n",
            "13/13 [==============================] - 7s 559ms/step - loss: 0.3133 - accuracy: 0.8726 - val_loss: 0.6288 - val_accuracy: 0.6493\n",
            "Epoch 16/50\n",
            "13/13 [==============================] - 7s 559ms/step - loss: 0.2603 - accuracy: 0.8966 - val_loss: 0.6879 - val_accuracy: 0.6418\n",
            "Epoch 17/50\n",
            "13/13 [==============================] - 8s 579ms/step - loss: 0.2252 - accuracy: 0.9303 - val_loss: 0.5161 - val_accuracy: 0.7463\n",
            "Epoch 18/50\n",
            "13/13 [==============================] - 8s 581ms/step - loss: 0.2133 - accuracy: 0.9255 - val_loss: 0.6380 - val_accuracy: 0.6493\n",
            "Epoch 19/50\n",
            "13/13 [==============================] - 8s 580ms/step - loss: 0.1698 - accuracy: 0.9423 - val_loss: 0.5402 - val_accuracy: 0.7164\n",
            "Epoch 20/50\n",
            "13/13 [==============================] - 7s 554ms/step - loss: 0.1599 - accuracy: 0.9519 - val_loss: 0.3232 - val_accuracy: 0.8507\n",
            "Epoch 21/50\n",
            "13/13 [==============================] - 7s 562ms/step - loss: 0.1630 - accuracy: 0.9399 - val_loss: 0.4466 - val_accuracy: 0.7836\n",
            "Epoch 22/50\n",
            "13/13 [==============================] - 7s 554ms/step - loss: 0.2509 - accuracy: 0.9111 - val_loss: 0.3548 - val_accuracy: 0.8134\n",
            "Epoch 23/50\n",
            "13/13 [==============================] - 8s 583ms/step - loss: 0.1686 - accuracy: 0.9519 - val_loss: 0.3603 - val_accuracy: 0.8433\n",
            "Epoch 24/50\n",
            "13/13 [==============================] - 7s 554ms/step - loss: 0.1341 - accuracy: 0.9495 - val_loss: 0.2824 - val_accuracy: 0.8657\n",
            "Epoch 25/50\n",
            "13/13 [==============================] - 8s 578ms/step - loss: 0.1034 - accuracy: 0.9567 - val_loss: 0.2439 - val_accuracy: 0.8881\n",
            "Epoch 26/50\n",
            "13/13 [==============================] - 7s 549ms/step - loss: 0.1329 - accuracy: 0.9615 - val_loss: 0.2564 - val_accuracy: 0.8507\n",
            "Epoch 27/50\n",
            "13/13 [==============================] - 7s 566ms/step - loss: 0.1748 - accuracy: 0.9567 - val_loss: 0.9902 - val_accuracy: 0.6642\n",
            "Epoch 28/50\n",
            "13/13 [==============================] - 8s 586ms/step - loss: 0.2929 - accuracy: 0.8774 - val_loss: 0.6931 - val_accuracy: 0.5746\n",
            "Epoch 29/50\n",
            "13/13 [==============================] - 7s 556ms/step - loss: 0.2891 - accuracy: 0.8966 - val_loss: 0.4407 - val_accuracy: 0.7687\n",
            "Epoch 30/50\n",
            "13/13 [==============================] - 7s 566ms/step - loss: 0.2005 - accuracy: 0.9375 - val_loss: 0.3212 - val_accuracy: 0.8433\n",
            "Epoch 31/50\n",
            "13/13 [==============================] - 571s 48s/step - loss: 0.1254 - accuracy: 0.9615 - val_loss: 0.2015 - val_accuracy: 0.9104\n",
            "Epoch 32/50\n",
            "13/13 [==============================] - 8s 640ms/step - loss: 0.0991 - accuracy: 0.9663 - val_loss: 0.2116 - val_accuracy: 0.8955\n",
            "Epoch 33/50\n",
            "13/13 [==============================] - 8s 577ms/step - loss: 0.0894 - accuracy: 0.9736 - val_loss: 0.2865 - val_accuracy: 0.8582\n",
            "Epoch 34/50\n",
            "13/13 [==============================] - 8s 574ms/step - loss: 0.0595 - accuracy: 0.9832 - val_loss: 0.2231 - val_accuracy: 0.9179\n",
            "Epoch 35/50\n",
            "13/13 [==============================] - 7s 562ms/step - loss: 0.0962 - accuracy: 0.9688 - val_loss: 0.1764 - val_accuracy: 0.9478\n",
            "Epoch 36/50\n",
            "13/13 [==============================] - 8s 580ms/step - loss: 0.0618 - accuracy: 0.9808 - val_loss: 0.1788 - val_accuracy: 0.9030\n",
            "Epoch 37/50\n",
            "13/13 [==============================] - 7s 559ms/step - loss: 0.0603 - accuracy: 0.9832 - val_loss: 0.1827 - val_accuracy: 0.9179\n",
            "Epoch 38/50\n",
            "13/13 [==============================] - 8s 572ms/step - loss: 0.0530 - accuracy: 0.9784 - val_loss: 0.2355 - val_accuracy: 0.8955\n",
            "Epoch 39/50\n",
            "13/13 [==============================] - 8s 577ms/step - loss: 0.0539 - accuracy: 0.9904 - val_loss: 0.1439 - val_accuracy: 0.9478\n",
            "Epoch 40/50\n",
            "13/13 [==============================] - 7s 555ms/step - loss: 0.0466 - accuracy: 0.9880 - val_loss: 0.5195 - val_accuracy: 0.8433\n",
            "Epoch 41/50\n",
            "13/13 [==============================] - 7s 561ms/step - loss: 0.1126 - accuracy: 0.9519 - val_loss: 0.4427 - val_accuracy: 0.8284\n",
            "Epoch 42/50\n",
            "13/13 [==============================] - 8s 567ms/step - loss: 0.0703 - accuracy: 0.9832 - val_loss: 0.2568 - val_accuracy: 0.8881\n",
            "Epoch 43/50\n",
            "13/13 [==============================] - 8s 582ms/step - loss: 0.0496 - accuracy: 0.9832 - val_loss: 0.2526 - val_accuracy: 0.8955\n",
            "Epoch 44/50\n",
            "13/13 [==============================] - 8s 589ms/step - loss: 0.0434 - accuracy: 0.9904 - val_loss: 0.1294 - val_accuracy: 0.9478\n",
            "Epoch 45/50\n",
            "13/13 [==============================] - 8s 568ms/step - loss: 0.0831 - accuracy: 0.9784 - val_loss: 0.2191 - val_accuracy: 0.9179\n",
            "Epoch 46/50\n",
            "13/13 [==============================] - 8s 568ms/step - loss: 0.0597 - accuracy: 0.9904 - val_loss: 0.3037 - val_accuracy: 0.8806\n",
            "Epoch 47/50\n",
            "13/13 [==============================] - 8s 569ms/step - loss: 0.0679 - accuracy: 0.9784 - val_loss: 0.4150 - val_accuracy: 0.8582\n",
            "Epoch 48/50\n",
            "13/13 [==============================] - 8s 582ms/step - loss: 0.0807 - accuracy: 0.9760 - val_loss: 0.1414 - val_accuracy: 0.9254\n",
            "Epoch 49/50\n",
            "13/13 [==============================] - 7s 549ms/step - loss: 0.0384 - accuracy: 0.9856 - val_loss: 0.1615 - val_accuracy: 0.9179\n",
            "Epoch 50/50\n",
            "13/13 [==============================] - 7s 551ms/step - loss: 0.0760 - accuracy: 0.9760 - val_loss: 0.3180 - val_accuracy: 0.8582\n"
          ]
        }
      ],
      "source": [
        "# fit the model\n",
        "# Run the cell. It will take some time to execute\n",
        "r = model.fit_generator(\n",
        "  training_set,\n",
        "  validation_data=test_set,\n",
        "  epochs=50,\n",
        "  steps_per_epoch=len(training_set),\n",
        "  validation_steps=len(test_set)\n",
        ")"
      ]
    },
    {
      "cell_type": "code",
      "execution_count": null,
      "id": "e3d1fd58",
      "metadata": {
        "id": "e3d1fd58",
        "outputId": "12b6cd5e-ed7a-4802-f46b-d26c8af13252"
      },
      "outputs": [
        {
          "data": {
            "image/png": "[encoded data removed]",
            "text/plain": [
              "<Figure size 640x480 with 1 Axes>"
            ]
          },
          "metadata": {},
          "output_type": "display_data"
        },
        {
          "data": {
            "image/png": "[encoded data removed]",
            "text/plain": [
              "<Figure size 640x480 with 1 Axes>"
            ]
          },
          "metadata": {},
          "output_type": "display_data"
        },
        {
          "data": {
            "text/plain": [
              "<Figure size 640x480 with 0 Axes>"
            ]
          },
          "metadata": {},
          "output_type": "display_data"
        }
      ],
      "source": [
        "# plot the loss\n",
        "plt.plot(r.history['loss'], label='train loss')\n",
        "plt.plot(r.history['val_loss'], label='val loss')\n",
        "plt.legend()\n",
        "plt.show()\n",
        "plt.savefig('LossVal_loss')\n",
        "\n",
        "# plot the accuracy\n",
        "plt.plot(r.history['accuracy'], label='train acc')\n",
        "plt.plot(r.history['val_accuracy'], label='val acc')\n",
        "plt.legend()\n",
        "plt.show()\n",
        "plt.savefig('AccVal_acc')"
      ]
    },
    {
      "cell_type": "code",
      "execution_count": null,
      "id": "21455060",
      "metadata": {
        "id": "21455060"
      },
      "outputs": [],
      "source": [
        "# save it as a h5 file\n",
        "\n",
        "\n",
        "from tensorflow.keras.models import load_model\n",
        "\n",
        "model.save('model_vgg19.h5')"
      ]
    },
    {
      "cell_type": "code",
      "execution_count": null,
      "id": "00655ba9",
      "metadata": {
        "id": "00655ba9",
        "outputId": "411fc145-c5cd-4c61-adce-79806f5147c3"
      },
      "outputs": [
        {
          "name": "stdout",
          "output_type": "stream",
          "text": [
            "5/5 [==============================] - 0s 56ms/step\n"
          ]
        }
      ],
      "source": [
        "y_pred = model.predict(test_set)"
      ]
    },
    {
      "cell_type": "code",
      "execution_count": null,
      "id": "be9d1f98",
      "metadata": {
        "id": "be9d1f98",
        "outputId": "ce60de06-862e-4daf-e30a-d3e0059bbd1b"
      },
      "outputs": [
        {
          "data": {
            "text/plain": [
              "array([[9.75817025e-01, 2.41830349e-02],\n",
              "       [1.05779409e-01, 8.94220591e-01],\n",
              "       [9.99952674e-01, 4.73481596e-05],\n",
              "       [9.99799430e-01, 2.00555820e-04],\n",
              "       [5.72832348e-03, 9.94271636e-01],\n",
              "       [3.17824662e-01, 6.82175338e-01],\n",
              "       [9.99953151e-01, 4.69048646e-05],\n",
              "       [9.90294933e-01, 9.70513560e-03],\n",
              "       [9.96755660e-01, 3.24427756e-03],\n",
              "       [9.91586804e-01, 8.41316022e-03],\n",
              "       [9.98709559e-01, 1.29044626e-03],\n",
              "       [9.95912731e-01, 4.08722926e-03],\n",
              "       [9.99383092e-01, 6.16909587e-04],\n",
              "       [9.99997377e-01, 2.63733932e-06],\n",
              "       [7.36340582e-02, 9.26365972e-01],\n",
              "       [9.98820126e-01, 1.17982109e-03],\n",
              "       [6.17221463e-03, 9.93827760e-01],\n",
              "       [9.97101843e-01, 2.89818621e-03],\n",
              "       [9.99970198e-01, 2.97515435e-05],\n",
              "       [1.00000000e+00, 1.18871881e-08],\n",
              "       [9.99987602e-01, 1.23625423e-05],\n",
              "       [1.25098497e-01, 8.74901474e-01],\n",
              "       [2.08907407e-02, 9.79109287e-01],\n",
              "       [1.77537538e-02, 9.82246280e-01],\n",
              "       [8.14205781e-03, 9.91857946e-01],\n",
              "       [2.99751163e-01, 7.00248778e-01],\n",
              "       [9.99982953e-01, 1.70867042e-05],\n",
              "       [1.07912077e-02, 9.89208758e-01],\n",
              "       [9.99995589e-01, 4.36323762e-06],\n",
              "       [9.99988556e-01, 1.14421655e-05],\n",
              "       [1.18191056e-02, 9.88180876e-01],\n",
              "       [3.16826403e-02, 9.68317389e-01],\n",
              "       [5.69377616e-02, 9.43062186e-01],\n",
              "       [5.39554119e-01, 4.60445911e-01],\n",
              "       [4.55645710e-01, 5.44354260e-01],\n",
              "       [9.53651872e-03, 9.90463495e-01],\n",
              "       [1.14144281e-01, 8.85855734e-01],\n",
              "       [9.99962091e-01, 3.79130724e-05],\n",
              "       [9.97682333e-01, 2.31762207e-03],\n",
              "       [9.97271836e-01, 2.72809272e-03],\n",
              "       [9.99999881e-01, 6.38432169e-08],\n",
              "       [9.99998331e-01, 1.72193472e-06],\n",
              "       [9.61425960e-01, 3.85740250e-02],\n",
              "       [6.68620408e-01, 3.31379563e-01],\n",
              "       [9.99996662e-01, 3.36115113e-06],\n",
              "       [2.69385912e-02, 9.73061442e-01],\n",
              "       [2.69535810e-01, 7.30464220e-01],\n",
              "       [9.97705638e-01, 2.29433761e-03],\n",
              "       [1.38424248e-01, 8.61575723e-01],\n",
              "       [2.74188463e-02, 9.72581208e-01],\n",
              "       [9.98859882e-01, 1.14007958e-03],\n",
              "       [2.78876424e-01, 7.21123517e-01],\n",
              "       [9.99986172e-01, 1.38743981e-05],\n",
              "       [2.75476813e-01, 7.24523127e-01],\n",
              "       [1.00000000e+00, 6.32771220e-14],\n",
              "       [1.52709559e-01, 8.47290397e-01],\n",
              "       [4.65527596e-03, 9.95344698e-01],\n",
              "       [9.99943972e-01, 5.59723921e-05],\n",
              "       [1.61805339e-02, 9.83819544e-01],\n",
              "       [1.00000000e+00, 7.58814511e-10],\n",
              "       [1.47199603e-02, 9.85280037e-01],\n",
              "       [1.04690064e-02, 9.89530921e-01],\n",
              "       [7.03631376e-04, 9.99296308e-01],\n",
              "       [2.07279146e-01, 7.92720795e-01],\n",
              "       [1.77045345e-01, 8.22954655e-01],\n",
              "       [8.34526658e-01, 1.65473327e-01],\n",
              "       [9.97917473e-01, 2.08257465e-03],\n",
              "       [6.97326241e-03, 9.93026733e-01],\n",
              "       [3.00945882e-02, 9.69905376e-01],\n",
              "       [1.27149485e-02, 9.87285078e-01],\n",
              "       [5.52550927e-02, 9.44744885e-01],\n",
              "       [9.99983430e-01, 1.65316596e-05],\n",
              "       [9.99972820e-01, 2.71656845e-05],\n",
              "       [9.97759342e-01, 2.24064966e-03],\n",
              "       [5.68922721e-02, 9.43107784e-01],\n",
              "       [9.98376966e-01, 1.62299955e-03],\n",
              "       [9.97297704e-01, 2.70225923e-03],\n",
              "       [1.12225274e-02, 9.88777459e-01],\n",
              "       [6.26503257e-03, 9.93735015e-01],\n",
              "       [9.98411059e-01, 1.58895273e-03],\n",
              "       [5.53386919e-02, 9.44661379e-01],\n",
              "       [9.99458253e-01, 5.41748712e-04],\n",
              "       [4.10467163e-02, 9.58953321e-01],\n",
              "       [1.00000000e+00, 3.53441454e-09],\n",
              "       [9.99999642e-01, 4.13956712e-07],\n",
              "       [9.98724759e-01, 1.27521681e-03],\n",
              "       [1.63877532e-02, 9.83612239e-01],\n",
              "       [5.50796509e-01, 4.49203491e-01],\n",
              "       [1.63577020e-01, 8.36422980e-01],\n",
              "       [9.99476492e-01, 5.23567840e-04],\n",
              "       [4.80633825e-02, 9.51936603e-01],\n",
              "       [9.94953811e-01, 5.04612969e-03],\n",
              "       [1.00000000e+00, 5.73151837e-09],\n",
              "       [9.99667168e-01, 3.32863128e-04],\n",
              "       [3.18487012e-03, 9.96815145e-01],\n",
              "       [1.88511401e-01, 8.11488569e-01],\n",
              "       [8.37983564e-02, 9.16201591e-01],\n",
              "       [6.88402280e-02, 9.31159794e-01],\n",
              "       [9.99669909e-01, 3.30113078e-04],\n",
              "       [9.99981403e-01, 1.85665976e-05],\n",
              "       [4.99902219e-01, 5.00097752e-01],\n",
              "       [9.99957085e-01, 4.28751337e-05],\n",
              "       [3.87300290e-02, 9.61269975e-01],\n",
              "       [1.00000000e+00, 3.09425410e-08],\n",
              "       [9.99409914e-01, 5.90124109e-04],\n",
              "       [9.97746408e-01, 2.25352449e-03],\n",
              "       [4.48718891e-02, 9.55128074e-01],\n",
              "       [9.99955297e-01, 4.46879349e-05],\n",
              "       [2.01868087e-01, 7.98131883e-01],\n",
              "       [9.99801099e-01, 1.98971509e-04],\n",
              "       [9.99993086e-01, 6.92904496e-06],\n",
              "       [1.00000000e+00, 1.40263410e-08],\n",
              "       [9.99811232e-01, 1.88763079e-04],\n",
              "       [9.99889135e-01, 1.10895911e-04],\n",
              "       [1.81589648e-02, 9.81841028e-01],\n",
              "       [5.38487472e-02, 9.46151257e-01],\n",
              "       [2.51716357e-02, 9.74828422e-01],\n",
              "       [9.99970198e-01, 2.98030009e-05],\n",
              "       [7.75313675e-01, 2.24686310e-01],\n",
              "       [1.00000000e+00, 1.06122064e-11],\n",
              "       [9.11984667e-02, 9.08801556e-01],\n",
              "       [9.99965906e-01, 3.41254563e-05],\n",
              "       [9.99729335e-01, 2.70671881e-04],\n",
              "       [6.08449709e-03, 9.93915498e-01],\n",
              "       [9.99994636e-01, 5.34352421e-06],\n",
              "       [9.76187363e-03, 9.90238130e-01],\n",
              "       [9.98014808e-01, 1.98523235e-03],\n",
              "       [9.99794424e-01, 2.05613964e-04],\n",
              "       [1.14873815e-02, 9.88512635e-01],\n",
              "       [9.99906421e-01, 9.35918215e-05],\n",
              "       [8.63423012e-03, 9.91365790e-01],\n",
              "       [9.99999762e-01, 2.56527159e-07],\n",
              "       [2.21873149e-02, 9.77812648e-01],\n",
              "       [7.85325706e-01, 2.14674324e-01]], dtype=float32)"
            ]
          },
          "execution_count": 32,
          "metadata": {},
          "output_type": "execute_result"
        }
      ],
      "source": [
        "y_pred"
      ]
    },
    {
      "cell_type": "code",
      "execution_count": null,
      "id": "1f1a0f52",
      "metadata": {
        "id": "1f1a0f52"
      },
      "outputs": [],
      "source": [
        "import numpy as np\n",
        "y_pred = np.argmax(y_pred, axis=1)"
      ]
    },
    {
      "cell_type": "code",
      "execution_count": null,
      "id": "7c6c3858",
      "metadata": {
        "id": "7c6c3858",
        "outputId": "77866369-b19f-418b-a8a9-10dc1ba5a333"
      },
      "outputs": [
        {
          "data": {
            "text/plain": [
              "array([0, 1, 0, 0, 1, 1, 0, 0, 0, 0, 0, 0, 0, 0, 1, 0, 1, 0, 0, 0, 0, 1,\n",
              "       1, 1, 1, 1, 0, 1, 0, 0, 1, 1, 1, 0, 1, 1, 1, 0, 0, 0, 0, 0, 0, 0,\n",
              "       0, 1, 1, 0, 1, 1, 0, 1, 0, 1, 0, 1, 1, 0, 1, 0, 1, 1, 1, 1, 1, 0,\n",
              "       0, 1, 1, 1, 1, 0, 0, 0, 1, 0, 0, 1, 1, 0, 1, 0, 1, 0, 0, 0, 1, 0,\n",
              "       1, 0, 1, 0, 0, 0, 1, 1, 1, 1, 0, 0, 1, 0, 1, 0, 0, 0, 1, 0, 1, 0,\n",
              "       0, 0, 0, 0, 1, 1, 1, 0, 0, 0, 1, 0, 0, 1, 0, 1, 0, 0, 1, 0, 1, 0,\n",
              "       1, 0], dtype=int64)"
            ]
          },
          "execution_count": 34,
          "metadata": {},
          "output_type": "execute_result"
        }
      ],
      "source": [
        "y_pred"
      ]
    },
    {
      "cell_type": "code",
      "execution_count": null,
      "id": "27827aa5",
      "metadata": {
        "id": "27827aa5"
      },
      "outputs": [],
      "source": [
        "from tensorflow.keras.models import load_model\n",
        "from tensorflow.keras.preprocessing import image"
      ]
    },
    {
      "cell_type": "code",
      "execution_count": null,
      "id": "252a02e0",
      "metadata": {
        "id": "252a02e0"
      },
      "outputs": [],
      "source": [
        "model=load_model('model_vgg19.h5')"
      ]
    },
    {
      "cell_type": "code",
      "execution_count": null,
      "id": "fd4cdc5d",
      "metadata": {
        "id": "fd4cdc5d"
      },
      "outputs": [],
      "source": [
        "img=image.load_img('C:/Users/pravi/OneDrive/Documents/Malaria_detection/Dataset/Test/Uninfected/2.png',target_size=(224,224))"
      ]
    },
    {
      "cell_type": "code",
      "execution_count": null,
      "id": "0f5f3ed7",
      "metadata": {
        "id": "0f5f3ed7",
        "outputId": "df761d3c-1c3b-46fe-c816-435305c8096e"
      },
      "outputs": [
        {
          "data": {
            "text/plain": [
              "array([[[0., 0., 0.],\n",
              "        [0., 0., 0.],\n",
              "        [0., 0., 0.],\n",
              "        ...,\n",
              "        [0., 0., 0.],\n",
              "        [0., 0., 0.],\n",
              "        [0., 0., 0.]],\n",
              "\n",
              "       [[0., 0., 0.],\n",
              "        [0., 0., 0.],\n",
              "        [0., 0., 0.],\n",
              "        ...,\n",
              "        [0., 0., 0.],\n",
              "        [0., 0., 0.],\n",
              "        [0., 0., 0.]],\n",
              "\n",
              "       [[0., 0., 0.],\n",
              "        [0., 0., 0.],\n",
              "        [0., 0., 0.],\n",
              "        ...,\n",
              "        [0., 0., 0.],\n",
              "        [0., 0., 0.],\n",
              "        [0., 0., 0.]],\n",
              "\n",
              "       ...,\n",
              "\n",
              "       [[0., 0., 0.],\n",
              "        [0., 0., 0.],\n",
              "        [0., 0., 0.],\n",
              "        ...,\n",
              "        [0., 0., 0.],\n",
              "        [0., 0., 0.],\n",
              "        [0., 0., 0.]],\n",
              "\n",
              "       [[0., 0., 0.],\n",
              "        [0., 0., 0.],\n",
              "        [0., 0., 0.],\n",
              "        ...,\n",
              "        [0., 0., 0.],\n",
              "        [0., 0., 0.],\n",
              "        [0., 0., 0.]],\n",
              "\n",
              "       [[0., 0., 0.],\n",
              "        [0., 0., 0.],\n",
              "        [0., 0., 0.],\n",
              "        ...,\n",
              "        [0., 0., 0.],\n",
              "        [0., 0., 0.],\n",
              "        [0., 0., 0.]]], dtype=float32)"
            ]
          },
          "execution_count": 39,
          "metadata": {},
          "output_type": "execute_result"
        }
      ],
      "source": [
        "x=image.img_to_array(img)\n",
        "x"
      ]
    },
    {
      "cell_type": "code",
      "execution_count": null,
      "id": "77edaafd",
      "metadata": {
        "id": "77edaafd",
        "outputId": "03bb7f8f-9299-42f6-eae8-39c34c78ed2f"
      },
      "outputs": [
        {
          "data": {
            "text/plain": [
              "(224, 224, 3)"
            ]
          },
          "execution_count": 40,
          "metadata": {},
          "output_type": "execute_result"
        }
      ],
      "source": [
        "x.shape"
      ]
    },
    {
      "cell_type": "code",
      "execution_count": null,
      "id": "0790030e",
      "metadata": {
        "id": "0790030e"
      },
      "outputs": [],
      "source": [
        "x=x/255"
      ]
    },
    {
      "cell_type": "code",
      "execution_count": null,
      "id": "17444f6f",
      "metadata": {
        "id": "17444f6f",
        "outputId": "f170413c-ffeb-4ff0-8ad5-6f5330a64b9a"
      },
      "outputs": [
        {
          "data": {
            "text/plain": [
              "(1, 224, 224, 3)"
            ]
          },
          "execution_count": 42,
          "metadata": {},
          "output_type": "execute_result"
        }
      ],
      "source": [
        "x=np.expand_dims(x,axis=0)\n",
        "img_data=preprocess_input(x)\n",
        "img_data.shape"
      ]
    },
    {
      "cell_type": "code",
      "execution_count": null,
      "id": "3142cc9b",
      "metadata": {
        "id": "3142cc9b",
        "outputId": "4dc1de73-8caf-470f-9a18-7c4212018dcf"
      },
      "outputs": [
        {
          "name": "stdout",
          "output_type": "stream",
          "text": [
            "1/1 [==============================] - 0s 60ms/step\n"
          ]
        },
        {
          "data": {
            "text/plain": [
              "array([[0., 1.]], dtype=float32)"
            ]
          },
          "execution_count": 43,
          "metadata": {},
          "output_type": "execute_result"
        }
      ],
      "source": [
        "model.predict(img_data)"
      ]
    },
    {
      "cell_type": "code",
      "execution_count": null,
      "id": "391f0950",
      "metadata": {
        "id": "391f0950",
        "outputId": "9ed9cfab-f067-4cab-c9a0-423e1ec0073c"
      },
      "outputs": [
        {
          "name": "stdout",
          "output_type": "stream",
          "text": [
            "1/1 [==============================] - 0s 27ms/step\n"
          ]
        }
      ],
      "source": [
        "a=np.argmax(model.predict(img_data), axis=1)"
      ]
    },
    {
      "cell_type": "code",
      "execution_count": null,
      "id": "811d9293",
      "metadata": {
        "id": "811d9293",
        "outputId": "0e7f2548-a764-4ce9-db9d-ac0020025795"
      },
      "outputs": [
        {
          "name": "stdout",
          "output_type": "stream",
          "text": [
            "Uninfected\n"
          ]
        }
      ],
      "source": [
        "if(a==1):\n",
        "    print(\"Uninfected\")\n",
        "else:\n",
        "    print(\"Infected\")"
      ]
    },
    {
      "cell_type": "code",
      "execution_count": null,
      "id": "544aa601",
      "metadata": {
        "id": "544aa601"
      },
      "outputs": [],
      "source": [
        "img=image.load_img('C:/Users/pravi/OneDrive/Documents/Malaria_detection/Dataset/Test/Parasite/C39P4thinF_original_IMG_20150622_110352_cell_80.png',target_size=(224,224))"
      ]
    },
    {
      "cell_type": "code",
      "execution_count": null,
      "id": "975bc4fa",
      "metadata": {
        "id": "975bc4fa",
        "outputId": "00240b63-7f6f-44c5-a225-99899d721778"
      },
      "outputs": [
        {
          "data": {
            "text/plain": [
              "array([[[0., 0., 0.],\n",
              "        [0., 0., 0.],\n",
              "        [0., 0., 0.],\n",
              "        ...,\n",
              "        [0., 0., 0.],\n",
              "        [0., 0., 0.],\n",
              "        [0., 0., 0.]],\n",
              "\n",
              "       [[0., 0., 0.],\n",
              "        [0., 0., 0.],\n",
              "        [0., 0., 0.],\n",
              "        ...,\n",
              "        [0., 0., 0.],\n",
              "        [0., 0., 0.],\n",
              "        [0., 0., 0.]],\n",
              "\n",
              "       [[0., 0., 0.],\n",
              "        [0., 0., 0.],\n",
              "        [0., 0., 0.],\n",
              "        ...,\n",
              "        [0., 0., 0.],\n",
              "        [0., 0., 0.],\n",
              "        [0., 0., 0.]],\n",
              "\n",
              "       ...,\n",
              "\n",
              "       [[0., 0., 0.],\n",
              "        [0., 0., 0.],\n",
              "        [0., 0., 0.],\n",
              "        ...,\n",
              "        [0., 0., 0.],\n",
              "        [0., 0., 0.],\n",
              "        [0., 0., 0.]],\n",
              "\n",
              "       [[0., 0., 0.],\n",
              "        [0., 0., 0.],\n",
              "        [0., 0., 0.],\n",
              "        ...,\n",
              "        [0., 0., 0.],\n",
              "        [0., 0., 0.],\n",
              "        [0., 0., 0.]],\n",
              "\n",
              "       [[0., 0., 0.],\n",
              "        [0., 0., 0.],\n",
              "        [0., 0., 0.],\n",
              "        ...,\n",
              "        [0., 0., 0.],\n",
              "        [0., 0., 0.],\n",
              "        [0., 0., 0.]]], dtype=float32)"
            ]
          },
          "execution_count": 65,
          "metadata": {},
          "output_type": "execute_result"
        }
      ],
      "source": [
        "x=image.img_to_array(img)\n",
        "x"
      ]
    },
    {
      "cell_type": "code",
      "execution_count": null,
      "id": "1c4b4e4e",
      "metadata": {
        "id": "1c4b4e4e",
        "outputId": "b363663c-7f27-41b1-a536-68414bfd8e0b"
      },
      "outputs": [
        {
          "data": {
            "text/plain": [
              "(224, 224, 3)"
            ]
          },
          "execution_count": 66,
          "metadata": {},
          "output_type": "execute_result"
        }
      ],
      "source": [
        "x.shape"
      ]
    },
    {
      "cell_type": "code",
      "execution_count": null,
      "id": "352e0d80",
      "metadata": {
        "id": "352e0d80"
      },
      "outputs": [],
      "source": [
        "x=x/255"
      ]
    },
    {
      "cell_type": "code",
      "execution_count": null,
      "id": "c5781afd",
      "metadata": {
        "id": "c5781afd",
        "outputId": "781b2c4b-73da-4a1b-f2a6-df68a6b776c5"
      },
      "outputs": [
        {
          "data": {
            "text/plain": [
              "(1, 224, 224, 3)"
            ]
          },
          "execution_count": 68,
          "metadata": {},
          "output_type": "execute_result"
        }
      ],
      "source": [
        "x=np.expand_dims(x,axis=0)\n",
        "img_data=preprocess_input(x)\n",
        "img_data.shape"
      ]
    },
    {
      "cell_type": "code",
      "execution_count": null,
      "id": "ad773229",
      "metadata": {
        "id": "ad773229",
        "outputId": "9f3a5f1f-b778-4e06-acbc-da78080938c1"
      },
      "outputs": [
        {
          "name": "stdout",
          "output_type": "stream",
          "text": [
            "1/1 [==============================] - 0s 23ms/step\n"
          ]
        },
        {
          "data": {
            "text/plain": [
              "array([[0., 1.]], dtype=float32)"
            ]
          },
          "execution_count": 69,
          "metadata": {},
          "output_type": "execute_result"
        }
      ],
      "source": [
        "model.predict(img_data)"
      ]
    },
    {
      "cell_type": "code",
      "execution_count": null,
      "id": "8232ef99",
      "metadata": {
        "id": "8232ef99",
        "outputId": "d32a20ce-9dfb-436f-8548-f7a99481a648"
      },
      "outputs": [
        {
          "name": "stdout",
          "output_type": "stream",
          "text": [
            "1/1 [==============================] - 0s 21ms/step\n"
          ]
        }
      ],
      "source": [
        "a=np.argmax(model.predict(img_data), axis=1)"
      ]
    },
    {
      "cell_type": "code",
      "execution_count": null,
      "id": "35ef8228",
      "metadata": {
        "id": "35ef8228",
        "outputId": "575a6955-2500-4df0-8862-44c2cc9d0dd9"
      },
      "outputs": [
        {
          "name": "stdout",
          "output_type": "stream",
          "text": [
            "Uninfected\n"
          ]
        }
      ],
      "source": [
        "if(a==1):\n",
        "    print(\"Uninfected\")\n",
        "else:\n",
        "    print(\"Infected\")"
      ]
    },
    {
      "cell_type": "code",
      "execution_count": null,
      "id": "2e53c7bf",
      "metadata": {
        "id": "2e53c7bf"
      },
      "outputs": [],
      "source": []
    }
  ],
  "metadata": {
    "kernelspec": {
      "display_name": "Python 3 (ipykernel)",
      "language": "python",
      "name": "python3"
    },
    "language_info": {
      "codemirror_mode": {
        "name": "ipython",
        "version": 3
      },
      "file_extension": ".py",
      "mimetype": "text/x-python",
      "name": "python",
      "nbconvert_exporter": "python",
      "pygments_lexer": "ipython3",
      "version": "3.11.2"
    },
    "colab": {
      "provenance": []
    }
  },
  "nbformat": 4,
  "nbformat_minor": 5
}