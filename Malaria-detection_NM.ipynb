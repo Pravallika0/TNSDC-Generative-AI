{
 "cells": [
  {
   "cell_type": "code",
   "execution_count": 1,
   "id": "35389d4a",
   "metadata": {},
   "outputs": [
    {
     "name": "stdout",
     "output_type": "stream",
     "text": [
      "2.12.0\n"
     ]
    }
   ],
   "source": [
    "import tensorflow as tf\n",
    "print(tf.__version__)"
   ]
  },
  {
   "cell_type": "code",
   "execution_count": 2,
   "id": "baf845a3",
   "metadata": {},
   "outputs": [],
   "source": [
    "from tensorflow.keras.layers import Input, Lambda, Dense, Flatten,Conv2D\n",
    "from tensorflow.keras.models import Model\n",
    "from tensorflow.keras.applications.vgg19 import VGG19\n",
    "from tensorflow.keras.applications.resnet50 import preprocess_input\n",
    "from tensorflow.keras.preprocessing import image\n",
    "from tensorflow.keras.preprocessing.image import ImageDataGenerator,load_img\n",
    "from tensorflow.keras.models import Sequential\n",
    "import numpy as np\n",
    "from glob import glob\n",
    "import matplotlib.pyplot as plt"
   ]
  },
  {
   "cell_type": "code",
   "execution_count": 39,
   "id": "60a4d833",
   "metadata": {},
   "outputs": [],
   "source": [
    "IMAGE_SIZE = [224, 224]\n",
    "\n",
    "train_path = 'C:/Malaria-Detection_NM/Dataset/Dataset/Train'\n",
    "valid_path = 'C:/Malaria-Detection_NM/Dataset/Dataset/Test'"
   ]
  },
  {
   "cell_type": "code",
   "execution_count": 40,
   "id": "4e408d46",
   "metadata": {},
   "outputs": [],
   "source": [
    "# Import the Vgg 16 library as shown below and add preprocessing layer to the front of VGG\n",
    "# Here we will be using imagenet weights\n",
    "mobilnet = VGG19(input_shape=IMAGE_SIZE + [3], weights='imagenet', include_top=False)"
   ]
  },
  {
   "cell_type": "code",
   "execution_count": 41,
   "id": "8c4ecdf1",
   "metadata": {},
   "outputs": [
    {
     "name": "stdout",
     "output_type": "stream",
     "text": [
      "Model: \"vgg19\"\n",
      "_________________________________________________________________\n",
      " Layer (type)                Output Shape              Param #   \n",
      "=================================================================\n",
      " input_5 (InputLayer)        [(None, 224, 224, 3)]     0         \n",
      "                                                                 \n",
      " block1_conv1 (Conv2D)       (None, 224, 224, 64)      1792      \n",
      "                                                                 \n",
      " block1_conv2 (Conv2D)       (None, 224, 224, 64)      36928     \n",
      "                                                                 \n",
      " block1_pool (MaxPooling2D)  (None, 112, 112, 64)      0         \n",
      "                                                                 \n",
      " block2_conv1 (Conv2D)       (None, 112, 112, 128)     73856     \n",
      "                                                                 \n",
      " block2_conv2 (Conv2D)       (None, 112, 112, 128)     147584    \n",
      "                                                                 \n",
      " block2_pool (MaxPooling2D)  (None, 56, 56, 128)       0         \n",
      "                                                                 \n",
      " block3_conv1 (Conv2D)       (None, 56, 56, 256)       295168    \n",
      "                                                                 \n",
      " block3_conv2 (Conv2D)       (None, 56, 56, 256)       590080    \n",
      "                                                                 \n",
      " block3_conv3 (Conv2D)       (None, 56, 56, 256)       590080    \n",
      "                                                                 \n",
      " block3_conv4 (Conv2D)       (None, 56, 56, 256)       590080    \n",
      "                                                                 \n",
      " block3_pool (MaxPooling2D)  (None, 28, 28, 256)       0         \n",
      "                                                                 \n",
      " block4_conv1 (Conv2D)       (None, 28, 28, 512)       1180160   \n",
      "                                                                 \n",
      " block4_conv2 (Conv2D)       (None, 28, 28, 512)       2359808   \n",
      "                                                                 \n",
      " block4_conv3 (Conv2D)       (None, 28, 28, 512)       2359808   \n",
      "                                                                 \n",
      " block4_conv4 (Conv2D)       (None, 28, 28, 512)       2359808   \n",
      "                                                                 \n",
      " block4_pool (MaxPooling2D)  (None, 14, 14, 512)       0         \n",
      "                                                                 \n",
      " block5_conv1 (Conv2D)       (None, 14, 14, 512)       2359808   \n",
      "                                                                 \n",
      " block5_conv2 (Conv2D)       (None, 14, 14, 512)       2359808   \n",
      "                                                                 \n",
      " block5_conv3 (Conv2D)       (None, 14, 14, 512)       2359808   \n",
      "                                                                 \n",
      " block5_conv4 (Conv2D)       (None, 14, 14, 512)       2359808   \n",
      "                                                                 \n",
      " block5_pool (MaxPooling2D)  (None, 7, 7, 512)         0         \n",
      "                                                                 \n",
      "=================================================================\n",
      "Total params: 20,024,384\n",
      "Trainable params: 20,024,384\n",
      "Non-trainable params: 0\n",
      "_________________________________________________________________\n"
     ]
    }
   ],
   "source": [
    "mobilnet.summary()"
   ]
  },
  {
   "cell_type": "code",
   "execution_count": 42,
   "id": "63b4c33d",
   "metadata": {},
   "outputs": [],
   "source": [
    "# don't train existing weights\n",
    "for layer in mobilnet.layers:\n",
    "    layer.trainable = False"
   ]
  },
  {
   "cell_type": "code",
   "execution_count": 43,
   "id": "2367d159",
   "metadata": {},
   "outputs": [],
   "source": [
    "# useful for getting number of output classes\n",
    "folders = glob('C:/Malaria-Detection_NM/Dataset/Dataset/Train/*')"
   ]
  },
  {
   "cell_type": "code",
   "execution_count": 44,
   "id": "fdc0fc9c",
   "metadata": {},
   "outputs": [
    {
     "data": {
      "text/plain": [
       "['C:/Malaria-Detection_NM/Dataset/Dataset/Train\\\\Parasite',\n",
       " 'C:/Malaria-Detection_NM/Dataset/Dataset/Train\\\\Uninfected']"
      ]
     },
     "execution_count": 44,
     "metadata": {},
     "output_type": "execute_result"
    }
   ],
   "source": [
    "folders"
   ]
  },
  {
   "cell_type": "code",
   "execution_count": 45,
   "id": "67af9bd2",
   "metadata": {},
   "outputs": [],
   "source": [
    "# our layers - you can add more if you want\n",
    "x = Flatten()(mobilnet.output)"
   ]
  },
  {
   "cell_type": "code",
   "execution_count": 46,
   "id": "0ec17ff9",
   "metadata": {},
   "outputs": [],
   "source": [
    "prediction = Dense(len(folders), activation='softmax')(x)\n",
    "\n",
    "# create a model object\n",
    "model = Model(inputs=mobilnet.input, outputs=prediction)"
   ]
  },
  {
   "cell_type": "code",
   "execution_count": 47,
   "id": "b241db15",
   "metadata": {},
   "outputs": [
    {
     "name": "stdout",
     "output_type": "stream",
     "text": [
      "Model: \"model_4\"\n",
      "_________________________________________________________________\n",
      " Layer (type)                Output Shape              Param #   \n",
      "=================================================================\n",
      " input_5 (InputLayer)        [(None, 224, 224, 3)]     0         \n",
      "                                                                 \n",
      " block1_conv1 (Conv2D)       (None, 224, 224, 64)      1792      \n",
      "                                                                 \n",
      " block1_conv2 (Conv2D)       (None, 224, 224, 64)      36928     \n",
      "                                                                 \n",
      " block1_pool (MaxPooling2D)  (None, 112, 112, 64)      0         \n",
      "                                                                 \n",
      " block2_conv1 (Conv2D)       (None, 112, 112, 128)     73856     \n",
      "                                                                 \n",
      " block2_conv2 (Conv2D)       (None, 112, 112, 128)     147584    \n",
      "                                                                 \n",
      " block2_pool (MaxPooling2D)  (None, 56, 56, 128)       0         \n",
      "                                                                 \n",
      " block3_conv1 (Conv2D)       (None, 56, 56, 256)       295168    \n",
      "                                                                 \n",
      " block3_conv2 (Conv2D)       (None, 56, 56, 256)       590080    \n",
      "                                                                 \n",
      " block3_conv3 (Conv2D)       (None, 56, 56, 256)       590080    \n",
      "                                                                 \n",
      " block3_conv4 (Conv2D)       (None, 56, 56, 256)       590080    \n",
      "                                                                 \n",
      " block3_pool (MaxPooling2D)  (None, 28, 28, 256)       0         \n",
      "                                                                 \n",
      " block4_conv1 (Conv2D)       (None, 28, 28, 512)       1180160   \n",
      "                                                                 \n",
      " block4_conv2 (Conv2D)       (None, 28, 28, 512)       2359808   \n",
      "                                                                 \n",
      " block4_conv3 (Conv2D)       (None, 28, 28, 512)       2359808   \n",
      "                                                                 \n",
      " block4_conv4 (Conv2D)       (None, 28, 28, 512)       2359808   \n",
      "                                                                 \n",
      " block4_pool (MaxPooling2D)  (None, 14, 14, 512)       0         \n",
      "                                                                 \n",
      " block5_conv1 (Conv2D)       (None, 14, 14, 512)       2359808   \n",
      "                                                                 \n",
      " block5_conv2 (Conv2D)       (None, 14, 14, 512)       2359808   \n",
      "                                                                 \n",
      " block5_conv3 (Conv2D)       (None, 14, 14, 512)       2359808   \n",
      "                                                                 \n",
      " block5_conv4 (Conv2D)       (None, 14, 14, 512)       2359808   \n",
      "                                                                 \n",
      " block5_pool (MaxPooling2D)  (None, 7, 7, 512)         0         \n",
      "                                                                 \n",
      " flatten_3 (Flatten)         (None, 25088)             0         \n",
      "                                                                 \n",
      " dense_6 (Dense)             (None, 2)                 50178     \n",
      "                                                                 \n",
      "=================================================================\n",
      "Total params: 20,074,562\n",
      "Trainable params: 50,178\n",
      "Non-trainable params: 20,024,384\n",
      "_________________________________________________________________\n"
     ]
    }
   ],
   "source": [
    "# view the structure of the model\n",
    "model.summary()"
   ]
  },
  {
   "cell_type": "code",
   "execution_count": 29,
   "id": "8f26ea43",
   "metadata": {},
   "outputs": [],
   "source": [
    "from tensorflow.keras.layers import MaxPooling2D"
   ]
  },
  {
   "cell_type": "code",
   "execution_count": 48,
   "id": "5333259b",
   "metadata": {},
   "outputs": [
    {
     "name": "stdout",
     "output_type": "stream",
     "text": [
      "Model: \"sequential_1\"\n",
      "_________________________________________________________________\n",
      " Layer (type)                Output Shape              Param #   \n",
      "=================================================================\n",
      " conv2d_3 (Conv2D)           (None, 224, 224, 16)      208       \n",
      "                                                                 \n",
      " max_pooling2d_3 (MaxPooling  (None, 112, 112, 16)     0         \n",
      " 2D)                                                             \n",
      "                                                                 \n",
      " conv2d_4 (Conv2D)           (None, 112, 112, 32)      2080      \n",
      "                                                                 \n",
      " max_pooling2d_4 (MaxPooling  (None, 56, 56, 32)       0         \n",
      " 2D)                                                             \n",
      "                                                                 \n",
      " conv2d_5 (Conv2D)           (None, 56, 56, 64)        8256      \n",
      "                                                                 \n",
      " max_pooling2d_5 (MaxPooling  (None, 28, 28, 64)       0         \n",
      " 2D)                                                             \n",
      "                                                                 \n",
      " flatten_4 (Flatten)         (None, 50176)             0         \n",
      "                                                                 \n",
      " dense_7 (Dense)             (None, 500)               25088500  \n",
      "                                                                 \n",
      " dense_8 (Dense)             (None, 2)                 1002      \n",
      "                                                                 \n",
      "=================================================================\n",
      "Total params: 25,100,046\n",
      "Trainable params: 25,100,046\n",
      "Non-trainable params: 0\n",
      "_________________________________________________________________\n"
     ]
    }
   ],
   "source": [
    "### Create Model from scratch using CNN\n",
    "model=Sequential()\n",
    "model.add(Conv2D(filters=16,kernel_size=2,padding=\"same\",activation=\"relu\",input_shape=(224,224,3)))\n",
    "model.add(MaxPooling2D(pool_size=2))\n",
    "model.add(Conv2D(filters=32,kernel_size=2,padding=\"same\",activation =\"relu\"))\n",
    "model.add(MaxPooling2D(pool_size=2))\n",
    "model.add(Conv2D(filters=64,kernel_size=2,padding=\"same\",activation=\"relu\"))\n",
    "model.add(MaxPooling2D(pool_size=2))\n",
    "model.add(Flatten())\n",
    "model.add(Dense(500,activation=\"relu\"))\n",
    "model.add(Dense(2,activation=\"softmax\"))\n",
    "model.summary()"
   ]
  },
  {
   "cell_type": "code",
   "execution_count": 49,
   "id": "663011d8",
   "metadata": {},
   "outputs": [],
   "source": [
    "# tell the model what cost and optimization method to use\n",
    "model.compile(\n",
    "  loss='categorical_crossentropy',\n",
    "  optimizer='adam',\n",
    "  metrics=['accuracy']\n",
    ")"
   ]
  },
  {
   "cell_type": "code",
   "execution_count": 50,
   "id": "aea6adc6",
   "metadata": {},
   "outputs": [],
   "source": [
    "# Use the Image Data Generator to import the images from the dataset\n",
    "from tensorflow.keras.preprocessing.image import ImageDataGenerator\n",
    "\n",
    "train_datagen = ImageDataGenerator(rescale = 1./255,\n",
    "                                   shear_range = 0.2,\n",
    "                                   zoom_range = 0.2,\n",
    "                                   horizontal_flip = True)\n",
    "\n",
    "test_datagen = ImageDataGenerator(rescale = 1./255)"
   ]
  },
  {
   "cell_type": "code",
   "execution_count": 51,
   "id": "49a4f4e6",
   "metadata": {},
   "outputs": [
    {
     "name": "stdout",
     "output_type": "stream",
     "text": [
      "Found 416 images belonging to 2 classes.\n"
     ]
    }
   ],
   "source": [
    "# Make sure you provide the same target size as initialied for the image size\n",
    "training_set = train_datagen.flow_from_directory('C:/Malaria-Detection_NM/Dataset/Dataset/Train',\n",
    "                                                 target_size = (224, 224),\n",
    "                                                 batch_size = 32,\n",
    "                                                 class_mode = 'categorical')"
   ]
  },
  {
   "cell_type": "code",
   "execution_count": 52,
   "id": "38728da7",
   "metadata": {},
   "outputs": [
    {
     "data": {
      "text/plain": [
       "<keras.preprocessing.image.DirectoryIterator at 0x21728dee5d0>"
      ]
     },
     "execution_count": 52,
     "metadata": {},
     "output_type": "execute_result"
    }
   ],
   "source": [
    "training_set"
   ]
  },
  {
   "cell_type": "code",
   "execution_count": 53,
   "id": "7d50206f",
   "metadata": {},
   "outputs": [
    {
     "name": "stdout",
     "output_type": "stream",
     "text": [
      "Found 134 images belonging to 2 classes.\n"
     ]
    }
   ],
   "source": [
    "test_set = test_datagen.flow_from_directory('C:/Malaria-Detection_NM/Dataset/Dataset/Test',\n",
    "                                            target_size = (224, 224),\n",
    "                                            batch_size = 32,\n",
    "                                            class_mode = 'categorical')"
   ]
  },
  {
   "cell_type": "code",
   "execution_count": 54,
   "id": "b5e1d8b2",
   "metadata": {},
   "outputs": [
    {
     "name": "stderr",
     "output_type": "stream",
     "text": [
      "C:\\Users\\pravi\\AppData\\Local\\Temp\\ipykernel_21576\\4102162479.py:3: UserWarning: `Model.fit_generator` is deprecated and will be removed in a future version. Please use `Model.fit`, which supports generators.\n",
      "  r = model.fit_generator(\n"
     ]
    },
    {
     "name": "stdout",
     "output_type": "stream",
     "text": [
      "Epoch 1/50\n",
      "13/13 [==============================] - 17s 1s/step - loss: 2.0908 - accuracy: 0.5048 - val_loss: 0.6453 - val_accuracy: 0.6791\n",
      "Epoch 2/50\n",
      "13/13 [==============================] - 9s 655ms/step - loss: 0.6905 - accuracy: 0.5361 - val_loss: 0.6792 - val_accuracy: 0.6866\n",
      "Epoch 3/50\n",
      "13/13 [==============================] - 8s 632ms/step - loss: 0.6746 - accuracy: 0.5577 - val_loss: 0.6670 - val_accuracy: 0.6716\n",
      "Epoch 4/50\n",
      "13/13 [==============================] - 8s 627ms/step - loss: 0.6242 - accuracy: 0.6514 - val_loss: 0.7649 - val_accuracy: 0.3582\n",
      "Epoch 5/50\n",
      "13/13 [==============================] - 8s 627ms/step - loss: 0.5509 - accuracy: 0.7163 - val_loss: 1.1011 - val_accuracy: 0.3806\n",
      "Epoch 6/50\n",
      "13/13 [==============================] - 8s 631ms/step - loss: 0.5541 - accuracy: 0.6755 - val_loss: 0.7926 - val_accuracy: 0.4030\n",
      "Epoch 7/50\n",
      "13/13 [==============================] - 9s 645ms/step - loss: 0.5133 - accuracy: 0.7620 - val_loss: 0.8311 - val_accuracy: 0.4030\n",
      "Epoch 8/50\n",
      "13/13 [==============================] - 9s 658ms/step - loss: 0.4625 - accuracy: 0.7788 - val_loss: 1.0106 - val_accuracy: 0.4328\n",
      "Epoch 9/50\n",
      "13/13 [==============================] - 8s 638ms/step - loss: 0.4419 - accuracy: 0.7837 - val_loss: 1.0695 - val_accuracy: 0.4328\n",
      "Epoch 10/50\n",
      "13/13 [==============================] - 9s 651ms/step - loss: 0.3815 - accuracy: 0.8413 - val_loss: 0.6605 - val_accuracy: 0.5597\n",
      "Epoch 11/50\n",
      "13/13 [==============================] - 8s 641ms/step - loss: 0.3619 - accuracy: 0.8486 - val_loss: 0.8437 - val_accuracy: 0.6418\n",
      "Epoch 12/50\n",
      "13/13 [==============================] - 8s 621ms/step - loss: 0.3638 - accuracy: 0.8750 - val_loss: 0.6740 - val_accuracy: 0.5896\n",
      "Epoch 13/50\n",
      "13/13 [==============================] - 8s 621ms/step - loss: 0.2582 - accuracy: 0.8942 - val_loss: 0.8448 - val_accuracy: 0.5746\n",
      "Epoch 14/50\n",
      "13/13 [==============================] - 8s 622ms/step - loss: 0.3293 - accuracy: 0.8534 - val_loss: 0.5451 - val_accuracy: 0.6567\n",
      "Epoch 15/50\n",
      "13/13 [==============================] - 8s 625ms/step - loss: 0.2520 - accuracy: 0.9014 - val_loss: 0.6406 - val_accuracy: 0.6493\n",
      "Epoch 16/50\n",
      "13/13 [==============================] - 8s 616ms/step - loss: 0.2216 - accuracy: 0.9303 - val_loss: 0.4519 - val_accuracy: 0.7090\n",
      "Epoch 17/50\n",
      "13/13 [==============================] - 8s 624ms/step - loss: 0.1989 - accuracy: 0.9327 - val_loss: 0.3819 - val_accuracy: 0.7985\n",
      "Epoch 18/50\n",
      "13/13 [==============================] - 8s 624ms/step - loss: 0.1726 - accuracy: 0.9375 - val_loss: 0.6542 - val_accuracy: 0.7015\n",
      "Epoch 19/50\n",
      "13/13 [==============================] - 8s 616ms/step - loss: 0.1711 - accuracy: 0.9351 - val_loss: 0.3955 - val_accuracy: 0.8060\n",
      "Epoch 20/50\n",
      "13/13 [==============================] - 8s 621ms/step - loss: 0.1235 - accuracy: 0.9519 - val_loss: 0.3104 - val_accuracy: 0.8507\n",
      "Epoch 21/50\n",
      "13/13 [==============================] - 8s 619ms/step - loss: 0.1632 - accuracy: 0.9543 - val_loss: 0.5246 - val_accuracy: 0.7687\n",
      "Epoch 22/50\n",
      "13/13 [==============================] - 8s 617ms/step - loss: 0.2721 - accuracy: 0.8918 - val_loss: 0.5033 - val_accuracy: 0.8209\n",
      "Epoch 23/50\n",
      "13/13 [==============================] - 8s 616ms/step - loss: 0.2237 - accuracy: 0.9327 - val_loss: 0.4349 - val_accuracy: 0.7761\n",
      "Epoch 24/50\n",
      "13/13 [==============================] - 8s 604ms/step - loss: 0.1562 - accuracy: 0.9471 - val_loss: 0.4402 - val_accuracy: 0.7910\n",
      "Epoch 25/50\n",
      "13/13 [==============================] - 8s 616ms/step - loss: 0.0965 - accuracy: 0.9688 - val_loss: 0.3000 - val_accuracy: 0.8731\n",
      "Epoch 26/50\n",
      "13/13 [==============================] - 8s 630ms/step - loss: 0.1088 - accuracy: 0.9495 - val_loss: 0.2550 - val_accuracy: 0.9179\n",
      "Epoch 27/50\n",
      "13/13 [==============================] - 8s 623ms/step - loss: 0.1365 - accuracy: 0.9519 - val_loss: 0.3527 - val_accuracy: 0.8284\n",
      "Epoch 28/50\n",
      "13/13 [==============================] - 8s 621ms/step - loss: 0.1121 - accuracy: 0.9639 - val_loss: 0.4834 - val_accuracy: 0.8060\n",
      "Epoch 29/50\n",
      "13/13 [==============================] - 9s 659ms/step - loss: 0.1551 - accuracy: 0.9567 - val_loss: 0.6655 - val_accuracy: 0.7090\n",
      "Epoch 30/50\n",
      "13/13 [==============================] - 8s 644ms/step - loss: 0.2114 - accuracy: 0.9231 - val_loss: 0.4294 - val_accuracy: 0.8134\n",
      "Epoch 31/50\n",
      "13/13 [==============================] - 9s 672ms/step - loss: 0.1131 - accuracy: 0.9663 - val_loss: 0.3622 - val_accuracy: 0.8433\n",
      "Epoch 32/50\n",
      "13/13 [==============================] - 9s 657ms/step - loss: 0.0872 - accuracy: 0.9784 - val_loss: 0.2923 - val_accuracy: 0.8657\n",
      "Epoch 33/50\n",
      "13/13 [==============================] - 8s 639ms/step - loss: 0.0798 - accuracy: 0.9760 - val_loss: 0.2877 - val_accuracy: 0.8582\n",
      "Epoch 34/50\n",
      "13/13 [==============================] - 8s 626ms/step - loss: 0.0721 - accuracy: 0.9832 - val_loss: 0.3673 - val_accuracy: 0.8358\n",
      "Epoch 35/50\n",
      "13/13 [==============================] - 10s 743ms/step - loss: 0.0889 - accuracy: 0.9736 - val_loss: 0.4332 - val_accuracy: 0.8284\n",
      "Epoch 36/50\n",
      "13/13 [==============================] - 9s 647ms/step - loss: 0.2020 - accuracy: 0.9231 - val_loss: 0.5332 - val_accuracy: 0.7612\n",
      "Epoch 37/50\n",
      "13/13 [==============================] - 8s 629ms/step - loss: 0.1443 - accuracy: 0.9519 - val_loss: 0.2409 - val_accuracy: 0.8731\n",
      "Epoch 38/50\n",
      "13/13 [==============================] - 8s 633ms/step - loss: 0.0703 - accuracy: 0.9760 - val_loss: 0.2300 - val_accuracy: 0.9030\n",
      "Epoch 39/50\n",
      "13/13 [==============================] - 8s 640ms/step - loss: 0.0558 - accuracy: 0.9880 - val_loss: 0.2239 - val_accuracy: 0.9179\n",
      "Epoch 40/50\n",
      "13/13 [==============================] - 8s 626ms/step - loss: 0.0840 - accuracy: 0.9736 - val_loss: 0.1729 - val_accuracy: 0.9403\n",
      "Epoch 41/50\n",
      "13/13 [==============================] - 8s 622ms/step - loss: 0.0485 - accuracy: 0.9808 - val_loss: 0.1891 - val_accuracy: 0.9179\n",
      "Epoch 42/50\n",
      "13/13 [==============================] - 8s 641ms/step - loss: 0.0665 - accuracy: 0.9832 - val_loss: 0.4003 - val_accuracy: 0.8433\n",
      "Epoch 43/50\n",
      "13/13 [==============================] - 8s 624ms/step - loss: 0.0696 - accuracy: 0.9784 - val_loss: 0.2818 - val_accuracy: 0.8731\n",
      "Epoch 44/50\n",
      "13/13 [==============================] - 8s 632ms/step - loss: 0.0462 - accuracy: 0.9856 - val_loss: 0.2303 - val_accuracy: 0.8881\n",
      "Epoch 45/50\n",
      "13/13 [==============================] - 8s 638ms/step - loss: 0.0827 - accuracy: 0.9736 - val_loss: 0.1438 - val_accuracy: 0.9478\n",
      "Epoch 46/50\n",
      "13/13 [==============================] - 9s 662ms/step - loss: 0.0638 - accuracy: 0.9880 - val_loss: 0.4705 - val_accuracy: 0.8507\n",
      "Epoch 47/50\n",
      "13/13 [==============================] - 8s 635ms/step - loss: 0.0671 - accuracy: 0.9856 - val_loss: 0.1878 - val_accuracy: 0.9030\n",
      "Epoch 48/50\n",
      "13/13 [==============================] - 9s 670ms/step - loss: 0.0545 - accuracy: 0.9856 - val_loss: 0.3541 - val_accuracy: 0.8806\n",
      "Epoch 49/50\n",
      "13/13 [==============================] - 9s 654ms/step - loss: 0.0803 - accuracy: 0.9688 - val_loss: 0.3344 - val_accuracy: 0.8657\n",
      "Epoch 50/50\n",
      "13/13 [==============================] - 9s 650ms/step - loss: 0.0348 - accuracy: 0.9928 - val_loss: 0.2419 - val_accuracy: 0.9030\n"
     ]
    }
   ],
   "source": [
    "# fit the model\n",
    "# Run the cell. It will take some time to execute\n",
    "r = model.fit_generator(\n",
    "  training_set,\n",
    "  validation_data=test_set,\n",
    "  epochs=50,\n",
    "  steps_per_epoch=len(training_set),\n",
    "  validation_steps=len(test_set)\n",
    ")"
   ]
  },
  {
   "cell_type": "code",
   "execution_count": 57,
   "id": "44cb3a9d",
   "metadata": {},
   "outputs": [
    {
     "data": {
      "image/png": "[encoded data removed]",
      "text/plain": [
       "<Figure size 640x480 with 1 Axes>"
      ]
     },
     "metadata": {},
     "output_type": "display_data"
    },
    {
     "data": {
      "image/png": "[encoded data removed]",
      "text/plain": [
       "<Figure size 640x480 with 1 Axes>"
      ]
     },
     "metadata": {},
     "output_type": "display_data"
    },
    {
     "data": {
      "text/plain": [
       "<Figure size 640x480 with 0 Axes>"
      ]
     },
     "metadata": {},
     "output_type": "display_data"
    }
   ],
   "source": [
    "# plot the loss\n",
    "plt.plot(r.history['loss'], label='train loss')\n",
    "plt.plot(r.history['val_loss'], label='val loss')\n",
    "plt.legend()\n",
    "plt.show()\n",
    "plt.savefig('LossVal_loss')\n",
    "\n",
    "# plot the accuracy\n",
    "plt.plot(r.history['accuracy'], label='train acc')\n",
    "plt.plot(r.history['val_accuracy'], label='val acc')\n",
    "plt.legend()\n",
    "plt.show()\n",
    "plt.savefig('AccVal_acc')"
   ]
  },
  {
   "cell_type": "code",
   "execution_count": 80,
   "id": "a8ef99ca",
   "metadata": {},
   "outputs": [],
   "source": [
    "# save it as a h5 file\n",
    "\n",
    "\n",
    "from tensorflow.keras.models import load_model\n",
    "\n",
    "model.save('model_vgg19.h5')"
   ]
  },
  {
   "cell_type": "code",
   "execution_count": 81,
   "id": "b00cd2e9",
   "metadata": {},
   "outputs": [
    {
     "name": "stdout",
     "output_type": "stream",
     "text": [
      "5/5 [==============================] - 1s 92ms/step\n"
     ]
    }
   ],
   "source": [
    "y_pred = model.predict(test_set)"
   ]
  },
  {
   "cell_type": "code",
   "execution_count": 83,
   "id": "d190c4d9",
   "metadata": {},
   "outputs": [
    {
     "data": {
      "text/plain": [
       "array([[9.99644041e-01, 3.55938770e-04],\n",
       "       [9.99978662e-01, 2.13410858e-05],\n",
       "       [7.76064256e-03, 9.92239356e-01],\n",
       "       [9.99989629e-01, 1.03406464e-05],\n",
       "       [9.49054122e-01, 5.09459078e-02],\n",
       "       [1.00000000e+00, 1.62142452e-11],\n",
       "       [1.00000000e+00, 2.28914651e-10],\n",
       "       [9.99733984e-01, 2.65987474e-04],\n",
       "       [9.99939919e-01, 6.00930762e-05],\n",
       "       [9.99999285e-01, 7.26609301e-07],\n",
       "       [9.99998331e-01, 1.64257563e-06],\n",
       "       [9.99984980e-01, 1.49707412e-05],\n",
       "       [7.10661173e-01, 2.89338887e-01],\n",
       "       [9.99629498e-01, 3.70519032e-04],\n",
       "       [1.61300190e-02, 9.83869970e-01],\n",
       "       [9.98951554e-01, 1.04837073e-03],\n",
       "       [1.46118654e-02, 9.85388100e-01],\n",
       "       [1.48598300e-02, 9.85140145e-01],\n",
       "       [1.00000000e+00, 4.03952566e-12],\n",
       "       [9.99971628e-01, 2.84124544e-05],\n",
       "       [9.89833832e-01, 1.01661934e-02],\n",
       "       [1.49523780e-01, 8.50476265e-01],\n",
       "       [9.99448955e-01, 5.51073696e-04],\n",
       "       [9.99981523e-01, 1.84679357e-05],\n",
       "       [9.99999881e-01, 1.49554239e-07],\n",
       "       [1.00000000e+00, 1.24305077e-09],\n",
       "       [1.42998546e-02, 9.85700130e-01],\n",
       "       [9.99999523e-01, 4.40743690e-07],\n",
       "       [9.99853969e-01, 1.45980710e-04],\n",
       "       [1.73368230e-02, 9.82663155e-01],\n",
       "       [2.37879567e-02, 9.76212084e-01],\n",
       "       [1.62293427e-02, 9.83770609e-01],\n",
       "       [1.00000000e+00, 5.92840017e-08],\n",
       "       [5.46979159e-02, 9.45302129e-01],\n",
       "       [1.14490604e-02, 9.88550961e-01],\n",
       "       [2.39414442e-02, 9.76058483e-01],\n",
       "       [9.99778807e-01, 2.21232171e-04],\n",
       "       [9.78354394e-01, 2.16455813e-02],\n",
       "       [9.74817097e-01, 2.51829401e-02],\n",
       "       [3.63027304e-02, 9.63697255e-01],\n",
       "       [9.99218345e-01, 7.81692739e-04],\n",
       "       [2.70656466e-01, 7.29343534e-01],\n",
       "       [9.99990940e-01, 9.10582276e-06],\n",
       "       [1.25771482e-02, 9.87422824e-01],\n",
       "       [1.00000000e+00, 3.47004159e-09],\n",
       "       [2.46860627e-02, 9.75313962e-01],\n",
       "       [2.08755895e-01, 7.91244030e-01],\n",
       "       [1.33233666e-02, 9.86676574e-01],\n",
       "       [1.00000000e+00, 1.10356668e-18],\n",
       "       [2.52017807e-02, 9.74798262e-01],\n",
       "       [2.65706163e-02, 9.73429441e-01],\n",
       "       [6.88546970e-02, 9.31145310e-01],\n",
       "       [9.99572098e-01, 4.27853258e-04],\n",
       "       [2.90051959e-02, 9.70994830e-01],\n",
       "       [1.00000000e+00, 4.25849045e-09],\n",
       "       [9.97501671e-01, 2.49829586e-03],\n",
       "       [9.99965310e-01, 3.46814813e-05],\n",
       "       [9.99990344e-01, 9.64356059e-06],\n",
       "       [9.99916077e-01, 8.39739369e-05],\n",
       "       [6.66125119e-01, 3.33874881e-01],\n",
       "       [5.60805807e-03, 9.94391978e-01],\n",
       "       [2.99761314e-02, 9.70023811e-01],\n",
       "       [9.99853611e-01, 1.46339997e-04],\n",
       "       [9.99992728e-01, 7.26276494e-06],\n",
       "       [1.57390431e-01, 8.42609584e-01],\n",
       "       [5.16714063e-03, 9.94832873e-01],\n",
       "       [9.99955773e-01, 4.42323253e-05],\n",
       "       [3.58240247e-01, 6.41759753e-01],\n",
       "       [2.92593241e-02, 9.70740676e-01],\n",
       "       [9.99973536e-01, 2.64918581e-05],\n",
       "       [9.99999404e-01, 5.63827257e-07],\n",
       "       [1.83655083e-01, 8.16344857e-01],\n",
       "       [9.99999881e-01, 9.19263385e-08],\n",
       "       [2.26888563e-02, 9.77311075e-01],\n",
       "       [6.76315874e-02, 9.32368398e-01],\n",
       "       [9.99863148e-01, 1.36822477e-04],\n",
       "       [1.00000000e+00, 4.05838341e-09],\n",
       "       [1.09072747e-02, 9.89092708e-01],\n",
       "       [9.92915154e-01, 7.08480552e-03],\n",
       "       [1.31434157e-01, 8.68565857e-01],\n",
       "       [2.30943605e-01, 7.69056380e-01],\n",
       "       [1.00000000e+00, 4.03506606e-09],\n",
       "       [2.45792404e-01, 7.54207551e-01],\n",
       "       [1.00000000e+00, 5.44416663e-17],\n",
       "       [1.00000000e+00, 3.23968252e-09],\n",
       "       [9.91024613e-01, 8.97537172e-03],\n",
       "       [9.99999881e-01, 1.00183094e-07],\n",
       "       [3.43035199e-02, 9.65696454e-01],\n",
       "       [9.99860048e-01, 1.39988304e-04],\n",
       "       [9.99996305e-01, 3.67080202e-06],\n",
       "       [7.84965418e-03, 9.92150307e-01],\n",
       "       [9.98271108e-01, 1.72890315e-03],\n",
       "       [9.97571170e-01, 2.42885086e-03],\n",
       "       [9.51992095e-01, 4.80078422e-02],\n",
       "       [9.99863863e-01, 1.36120929e-04],\n",
       "       [2.29204204e-02, 9.77079570e-01],\n",
       "       [9.99999762e-01, 2.18152152e-07],\n",
       "       [9.99518752e-01, 4.81253199e-04],\n",
       "       [2.98946090e-02, 9.70105410e-01],\n",
       "       [9.99993682e-01, 6.33768741e-06],\n",
       "       [3.35721016e-01, 6.64278984e-01],\n",
       "       [9.98371422e-01, 1.62857841e-03],\n",
       "       [9.99828935e-01, 1.71074775e-04],\n",
       "       [1.47813693e-01, 8.52186382e-01],\n",
       "       [9.99974728e-01, 2.53284725e-05],\n",
       "       [1.25662629e-02, 9.87433732e-01],\n",
       "       [2.52376758e-02, 9.74762380e-01],\n",
       "       [3.57350595e-02, 9.64264870e-01],\n",
       "       [9.99306917e-01, 6.93084148e-04],\n",
       "       [9.99819219e-01, 1.80840929e-04],\n",
       "       [1.99210912e-01, 8.00789058e-01],\n",
       "       [1.00000000e+00, 1.46633299e-19],\n",
       "       [9.99945164e-01, 5.48130629e-05],\n",
       "       [3.24121147e-01, 6.75878823e-01],\n",
       "       [1.00000000e+00, 1.64469297e-17],\n",
       "       [7.11095095e-01, 2.88904965e-01],\n",
       "       [9.94230151e-01, 5.76987304e-03],\n",
       "       [6.26651868e-02, 9.37334836e-01],\n",
       "       [2.58651882e-01, 7.41348147e-01],\n",
       "       [1.00000000e+00, 5.88236961e-18],\n",
       "       [9.97521579e-01, 2.47835508e-03],\n",
       "       [9.99996781e-01, 3.24391567e-06],\n",
       "       [1.00000000e+00, 2.11127834e-11],\n",
       "       [3.43260169e-02, 9.65673983e-01],\n",
       "       [9.99999762e-01, 2.69140344e-07],\n",
       "       [7.46567268e-03, 9.92534280e-01],\n",
       "       [9.26272199e-03, 9.90737259e-01],\n",
       "       [9.99995232e-01, 4.82331461e-06],\n",
       "       [6.75040996e-03, 9.93249655e-01],\n",
       "       [2.97555421e-02, 9.70244408e-01],\n",
       "       [3.09998263e-02, 9.69000161e-01],\n",
       "       [1.00000000e+00, 5.65113858e-08],\n",
       "       [1.84147749e-02, 9.81585264e-01],\n",
       "       [1.02139413e-02, 9.89786029e-01]], dtype=float32)"
      ]
     },
     "execution_count": 83,
     "metadata": {},
     "output_type": "execute_result"
    }
   ],
   "source": [
    "y_pred"
   ]
  },
  {
   "cell_type": "code",
   "execution_count": 84,
   "id": "0ad22317",
   "metadata": {},
   "outputs": [],
   "source": [
    "import numpy as np\n",
    "y_pred = np.argmax(y_pred, axis=1)"
   ]
  },
  {
   "cell_type": "code",
   "execution_count": 85,
   "id": "b6d5ec31",
   "metadata": {},
   "outputs": [
    {
     "data": {
      "text/plain": [
       "array([0, 0, 1, 0, 0, 0, 0, 0, 0, 0, 0, 0, 0, 0, 1, 0, 1, 1, 0, 0, 0, 1,\n",
       "       0, 0, 0, 0, 1, 0, 0, 1, 1, 1, 0, 1, 1, 1, 0, 0, 0, 1, 0, 1, 0, 1,\n",
       "       0, 1, 1, 1, 0, 1, 1, 1, 0, 1, 0, 0, 0, 0, 0, 0, 1, 1, 0, 0, 1, 1,\n",
       "       0, 1, 1, 0, 0, 1, 0, 1, 1, 0, 0, 1, 0, 1, 1, 0, 1, 0, 0, 0, 0, 1,\n",
       "       0, 0, 1, 0, 0, 0, 0, 1, 0, 0, 1, 0, 1, 0, 0, 1, 0, 1, 1, 1, 0, 0,\n",
       "       1, 0, 0, 1, 0, 0, 0, 1, 1, 0, 0, 0, 0, 1, 0, 1, 1, 0, 1, 1, 1, 0,\n",
       "       1, 1], dtype=int64)"
      ]
     },
     "execution_count": 85,
     "metadata": {},
     "output_type": "execute_result"
    }
   ],
   "source": [
    "y_pred"
   ]
  },
  {
   "cell_type": "code",
   "execution_count": 86,
   "id": "98d7289f",
   "metadata": {},
   "outputs": [],
   "source": [
    "from tensorflow.keras.models import load_model\n",
    "from tensorflow.keras.preprocessing import image"
   ]
  },
  {
   "cell_type": "code",
   "execution_count": 87,
   "id": "c6cabc24",
   "metadata": {},
   "outputs": [],
   "source": [
    "model=load_model('model_vgg19.h5')"
   ]
  },
  {
   "cell_type": "code",
   "execution_count": 115,
   "id": "8b707a6e",
   "metadata": {},
   "outputs": [],
   "source": [
    "img=image.load_img('C:/Malaria-Detection_NM/Dataset/Dataset/Test/Uninfected/C3thin_original_IMG_20150608_163002_cell_93.png',target_size=(224,224))"
   ]
  },
  {
   "cell_type": "code",
   "execution_count": 117,
   "id": "344996be",
   "metadata": {},
   "outputs": [
    {
     "data": {
      "text/plain": [
       "array([[[0., 0., 0.],\n",
       "        [0., 0., 0.],\n",
       "        [0., 0., 0.],\n",
       "        ...,\n",
       "        [0., 0., 0.],\n",
       "        [0., 0., 0.],\n",
       "        [0., 0., 0.]],\n",
       "\n",
       "       [[0., 0., 0.],\n",
       "        [0., 0., 0.],\n",
       "        [0., 0., 0.],\n",
       "        ...,\n",
       "        [0., 0., 0.],\n",
       "        [0., 0., 0.],\n",
       "        [0., 0., 0.]],\n",
       "\n",
       "       [[0., 0., 0.],\n",
       "        [0., 0., 0.],\n",
       "        [0., 0., 0.],\n",
       "        ...,\n",
       "        [0., 0., 0.],\n",
       "        [0., 0., 0.],\n",
       "        [0., 0., 0.]],\n",
       "\n",
       "       ...,\n",
       "\n",
       "       [[0., 0., 0.],\n",
       "        [0., 0., 0.],\n",
       "        [0., 0., 0.],\n",
       "        ...,\n",
       "        [0., 0., 0.],\n",
       "        [0., 0., 0.],\n",
       "        [0., 0., 0.]],\n",
       "\n",
       "       [[0., 0., 0.],\n",
       "        [0., 0., 0.],\n",
       "        [0., 0., 0.],\n",
       "        ...,\n",
       "        [0., 0., 0.],\n",
       "        [0., 0., 0.],\n",
       "        [0., 0., 0.]],\n",
       "\n",
       "       [[0., 0., 0.],\n",
       "        [0., 0., 0.],\n",
       "        [0., 0., 0.],\n",
       "        ...,\n",
       "        [0., 0., 0.],\n",
       "        [0., 0., 0.],\n",
       "        [0., 0., 0.]]], dtype=float32)"
      ]
     },
     "execution_count": 117,
     "metadata": {},
     "output_type": "execute_result"
    }
   ],
   "source": [
    "x=image.img_to_array(img)\n",
    "x"
   ]
  },
  {
   "cell_type": "code",
   "execution_count": 118,
   "id": "3ad0040e",
   "metadata": {},
   "outputs": [
    {
     "data": {
      "text/plain": [
       "(224, 224, 3)"
      ]
     },
     "execution_count": 118,
     "metadata": {},
     "output_type": "execute_result"
    }
   ],
   "source": [
    "x.shape"
   ]
  },
  {
   "cell_type": "code",
   "execution_count": 119,
   "id": "69d30e6b",
   "metadata": {},
   "outputs": [],
   "source": [
    "x=x/255"
   ]
  },
  {
   "cell_type": "code",
   "execution_count": 120,
   "id": "4006573a",
   "metadata": {},
   "outputs": [
    {
     "data": {
      "text/plain": [
       "(1, 224, 224, 3)"
      ]
     },
     "execution_count": 120,
     "metadata": {},
     "output_type": "execute_result"
    }
   ],
   "source": [
    "x=np.expand_dims(x,axis=0)\n",
    "img_data=preprocess_input(x)\n",
    "img_data.shape"
   ]
  },
  {
   "cell_type": "code",
   "execution_count": 121,
   "id": "6cd1727b",
   "metadata": {},
   "outputs": [
    {
     "name": "stdout",
     "output_type": "stream",
     "text": [
      "1/1 [==============================] - 0s 56ms/step\n"
     ]
    },
    {
     "data": {
      "text/plain": [
       "array([[1., 0.]], dtype=float32)"
      ]
     },
     "execution_count": 121,
     "metadata": {},
     "output_type": "execute_result"
    }
   ],
   "source": [
    "model.predict(img_data)"
   ]
  },
  {
   "cell_type": "code",
   "execution_count": 122,
   "id": "da50b715",
   "metadata": {},
   "outputs": [
    {
     "name": "stdout",
     "output_type": "stream",
     "text": [
      "1/1 [==============================] - 0s 38ms/step\n"
     ]
    }
   ],
   "source": [
    "a=np.argmax(model.predict(img_data), axis=1)"
   ]
  },
  {
   "cell_type": "code",
   "execution_count": 124,
   "id": "e370c488",
   "metadata": {},
   "outputs": [
    {
     "name": "stdout",
     "output_type": "stream",
     "text": [
      "Uninfected\n"
     ]
    }
   ],
   "source": [
    "if(a==1):\n",
    "    print(\"Infected\")\n",
    "else:\n",
    "    print(\"Uninfected\")"
   ]
  },
  {
   "cell_type": "code",
   "execution_count": 107,
   "id": "163dca02",
   "metadata": {},
   "outputs": [],
   "source": [
    "img=image.load_img('C:/Malaria-Detection_NM/Dataset/Dataset/Test/Parasite/P.png',target_size=(224,224))"
   ]
  },
  {
   "cell_type": "code",
   "execution_count": 108,
   "id": "fc084c8a",
   "metadata": {},
   "outputs": [
    {
     "data": {
      "text/plain": [
       "array([[[0., 0., 0.],\n",
       "        [0., 0., 0.],\n",
       "        [0., 0., 0.],\n",
       "        ...,\n",
       "        [0., 0., 0.],\n",
       "        [0., 0., 0.],\n",
       "        [0., 0., 0.]],\n",
       "\n",
       "       [[0., 0., 0.],\n",
       "        [0., 0., 0.],\n",
       "        [0., 0., 0.],\n",
       "        ...,\n",
       "        [0., 0., 0.],\n",
       "        [0., 0., 0.],\n",
       "        [0., 0., 0.]],\n",
       "\n",
       "       [[0., 0., 0.],\n",
       "        [0., 0., 0.],\n",
       "        [0., 0., 0.],\n",
       "        ...,\n",
       "        [0., 0., 0.],\n",
       "        [0., 0., 0.],\n",
       "        [0., 0., 0.]],\n",
       "\n",
       "       ...,\n",
       "\n",
       "       [[0., 0., 0.],\n",
       "        [0., 0., 0.],\n",
       "        [0., 0., 0.],\n",
       "        ...,\n",
       "        [0., 0., 0.],\n",
       "        [0., 0., 0.],\n",
       "        [0., 0., 0.]],\n",
       "\n",
       "       [[0., 0., 0.],\n",
       "        [0., 0., 0.],\n",
       "        [0., 0., 0.],\n",
       "        ...,\n",
       "        [0., 0., 0.],\n",
       "        [0., 0., 0.],\n",
       "        [0., 0., 0.]],\n",
       "\n",
       "       [[0., 0., 0.],\n",
       "        [0., 0., 0.],\n",
       "        [0., 0., 0.],\n",
       "        ...,\n",
       "        [0., 0., 0.],\n",
       "        [0., 0., 0.],\n",
       "        [0., 0., 0.]]], dtype=float32)"
      ]
     },
     "execution_count": 108,
     "metadata": {},
     "output_type": "execute_result"
    }
   ],
   "source": [
    "x=image.img_to_array(img)\n",
    "x\n"
   ]
  },
  {
   "cell_type": "code",
   "execution_count": 109,
   "id": "0528e061",
   "metadata": {},
   "outputs": [
    {
     "data": {
      "text/plain": [
       "(224, 224, 3)"
      ]
     },
     "execution_count": 109,
     "metadata": {},
     "output_type": "execute_result"
    }
   ],
   "source": [
    "x.shape"
   ]
  },
  {
   "cell_type": "code",
   "execution_count": 110,
   "id": "bff649dc",
   "metadata": {},
   "outputs": [],
   "source": [
    "x=x/255"
   ]
  },
  {
   "cell_type": "code",
   "execution_count": 111,
   "id": "f8ff76f9",
   "metadata": {},
   "outputs": [
    {
     "data": {
      "text/plain": [
       "(1, 224, 224, 3)"
      ]
     },
     "execution_count": 111,
     "metadata": {},
     "output_type": "execute_result"
    }
   ],
   "source": [
    "x=np.expand_dims(x,axis=0)\n",
    "img_data=preprocess_input(x)\n",
    "img_data.shape\n"
   ]
  },
  {
   "cell_type": "code",
   "execution_count": 112,
   "id": "41c118b5",
   "metadata": {},
   "outputs": [
    {
     "name": "stdout",
     "output_type": "stream",
     "text": [
      "1/1 [==============================] - 0s 37ms/step\n"
     ]
    },
    {
     "data": {
      "text/plain": [
       "array([[1., 0.]], dtype=float32)"
      ]
     },
     "execution_count": 112,
     "metadata": {},
     "output_type": "execute_result"
    }
   ],
   "source": [
    "model.predict(img_data)"
   ]
  },
  {
   "cell_type": "code",
   "execution_count": 113,
   "id": "ebbbc7ee",
   "metadata": {},
   "outputs": [
    {
     "name": "stdout",
     "output_type": "stream",
     "text": [
      "1/1 [==============================] - 0s 38ms/step\n"
     ]
    }
   ],
   "source": [
    "a=np.argmax(model.predict(img_data), axis=1)"
   ]
  },
  {
   "cell_type": "code",
   "execution_count": 125,
   "id": "ee8f8d67",
   "metadata": {},
   "outputs": [
    {
     "name": "stdout",
     "output_type": "stream",
     "text": [
      "Infected\n"
     ]
    }
   ],
   "source": [
    "if(a==1):\n",
    "    print(\"Uninfected\")\n",
    "else:\n",
    "    print(\"Infected\")"
   ]
  },
  {
   "cell_type": "code",
   "execution_count": null,
   "id": "eb910ae3",
   "metadata": {},
   "outputs": [],
   "source": []
  }
 ],
 "metadata": {
  "kernelspec": {
   "display_name": "Python 3 (ipykernel)",
   "language": "python",
   "name": "python3"
  },
  "language_info": {
   "codemirror_mode": {
    "name": "ipython",
    "version": 3
   },
   "file_extension": ".py",
   "mimetype": "text/x-python",
   "name": "python",
   "nbconvert_exporter": "python",
   "pygments_lexer": "ipython3",
   "version": "3.11.2"
  }
 },
 "nbformat": 4,
 "nbformat_minor": 5
}
